{
 "cells": [
  {
   "cell_type": "code",
   "execution_count": 1,
   "metadata": {},
   "outputs": [],
   "source": [
    "%matplotlib inline\n",
    "import numpy as np\n",
    "import pandas as pd\n",
    "from scipy import stats\n",
    "import matplotlib.pyplot as plt\n",
    "import seaborn as sns\n",
    "from sklearn.model_selection import train_test_split\n",
    "# Importing Classifier Modules\n",
    "from sklearn.linear_model import LogisticRegression\n",
    "from sklearn.svm import SVC, LinearSVC\n",
    "from sklearn.neighbors import KNeighborsClassifier\n",
    "from sklearn.tree import DecisionTreeClassifier\n",
    "from sklearn.ensemble import RandomForestClassifier\n",
    "from sklearn.naive_bayes import GaussianNB\n",
    "from sklearn.linear_model import Perceptron\n",
    "from sklearn.linear_model import SGDClassifier\n",
    "from sklearn.ensemble import GradientBoostingClassifier"
   ]
  },
  {
   "cell_type": "code",
   "execution_count": 120,
   "metadata": {},
   "outputs": [
    {
     "name": "stderr",
     "output_type": "stream",
     "text": [
      "/var/folders/_p/sktqnyb16qlfj7xjl0gfncgh0000gn/T/ipykernel_31247/2240761354.py:1: DtypeWarning: Columns (15) have mixed types. Specify dtype option on import or set low_memory=False.\n",
      "  df = pd.read_csv('/Users/kothasravani/Desktop/to_clean.csv')\n"
     ]
    }
   ],
   "source": [
    "df = pd.read_csv('/Users/kothasravani/Desktop/to_clean.csv')"
   ]
  },
  {
   "cell_type": "markdown",
   "metadata": {},
   "source": [
    "#### Step 1: Clean and prepare data"
   ]
  },
  {
   "cell_type": "code",
   "execution_count": 3,
   "metadata": {},
   "outputs": [
    {
     "data": {
      "text/plain": [
       "(400000, 32)"
      ]
     },
     "execution_count": 3,
     "metadata": {},
     "output_type": "execute_result"
    }
   ],
   "source": [
    "df.shape"
   ]
  },
  {
   "cell_type": "code",
   "execution_count": 4,
   "metadata": {},
   "outputs": [
    {
     "name": "stdout",
     "output_type": "stream",
     "text": [
      "<class 'pandas.core.frame.DataFrame'>\n",
      "RangeIndex: 400000 entries, 0 to 399999\n",
      "Data columns (total 32 columns):\n",
      " #   Column  Non-Null Count   Dtype  \n",
      "---  ------  --------------   -----  \n",
      " 0   X1      338990 non-null  object \n",
      " 1   X2      399999 non-null  float64\n",
      " 2   X3      399999 non-null  float64\n",
      " 3   X4      399999 non-null  object \n",
      " 4   X5      399999 non-null  object \n",
      " 5   X6      399999 non-null  object \n",
      " 6   X7      399999 non-null  object \n",
      " 7   X8      338730 non-null  object \n",
      " 8   X9      338730 non-null  object \n",
      " 9   X10     376014 non-null  object \n",
      " 10  X11     382462 non-null  object \n",
      " 11  X12     338639 non-null  object \n",
      " 12  X13     338972 non-null  float64\n",
      " 13  X14     399999 non-null  object \n",
      " 14  X15     399999 non-null  object \n",
      " 15  X16     123560 non-null  object \n",
      " 16  X17     399999 non-null  object \n",
      " 17  X18     399981 non-null  object \n",
      " 18  X19     399999 non-null  object \n",
      " 19  X20     399999 non-null  object \n",
      " 20  X21     399999 non-null  float64\n",
      " 21  X22     399999 non-null  float64\n",
      " 22  X23     399999 non-null  object \n",
      " 23  X24     399999 non-null  float64\n",
      " 24  X25     181198 non-null  float64\n",
      " 25  X26     51155 non-null   float64\n",
      " 26  X27     399999 non-null  float64\n",
      " 27  X28     399999 non-null  float64\n",
      " 28  X29     399999 non-null  float64\n",
      " 29  X30     399733 non-null  object \n",
      " 30  X31     399999 non-null  float64\n",
      " 31  X32     399999 non-null  object \n",
      "dtypes: float64(12), object(20)\n",
      "memory usage: 97.7+ MB\n"
     ]
    }
   ],
   "source": [
    "df.info()"
   ]
  },
  {
   "cell_type": "code",
   "execution_count": 5,
   "metadata": {},
   "outputs": [
    {
     "name": "stdout",
     "output_type": "stream",
     "text": [
      "Rows with missing values:\n",
      "           X1  X2  X3   X4   X5   X6   X7   X8   X9  X10  ...  X23 X24  X25  \\\n",
      "364111  7.69% NaN NaN  NaN  NaN  NaN  NaN  NaN  NaN  NaN  ...  NaN NaN  NaN   \n",
      "\n",
      "       X26 X27 X28 X29  X30 X31  X32  \n",
      "364111 NaN NaN NaN NaN  NaN NaN  NaN  \n",
      "\n",
      "[1 rows x 32 columns]\n"
     ]
    }
   ],
   "source": [
    "#There is one row that is causing one missing value in all columns. \n",
    "missing_rows = df[df['X2'].isna()]\n",
    "\n",
    "print('Rows with missing values:')\n",
    "print(missing_rows)"
   ]
  },
  {
   "cell_type": "code",
   "execution_count": 6,
   "metadata": {},
   "outputs": [],
   "source": [
    "#Dropping one row that is causing missing values in all columns and dropping the rows with null values in \n",
    "#interest rate column as it is the target variable\n",
    "df = df.dropna(subset=['X1'])\n",
    "df = df.dropna(subset=['X2'])"
   ]
  },
  {
   "cell_type": "code",
   "execution_count": 7,
   "metadata": {},
   "outputs": [
    {
     "data": {
      "text/html": [
       "<div>\n",
       "<style scoped>\n",
       "    .dataframe tbody tr th:only-of-type {\n",
       "        vertical-align: middle;\n",
       "    }\n",
       "\n",
       "    .dataframe tbody tr th {\n",
       "        vertical-align: top;\n",
       "    }\n",
       "\n",
       "    .dataframe thead th {\n",
       "        text-align: right;\n",
       "    }\n",
       "</style>\n",
       "<table border=\"1\" class=\"dataframe\">\n",
       "  <thead>\n",
       "    <tr style=\"text-align: right;\">\n",
       "      <th></th>\n",
       "      <th>X4</th>\n",
       "      <th>X5</th>\n",
       "      <th>X6</th>\n",
       "    </tr>\n",
       "  </thead>\n",
       "  <tbody>\n",
       "    <tr>\n",
       "      <th>0</th>\n",
       "      <td>$25,000</td>\n",
       "      <td>$25,000</td>\n",
       "      <td>$19,080</td>\n",
       "    </tr>\n",
       "    <tr>\n",
       "      <th>1</th>\n",
       "      <td>$7,000</td>\n",
       "      <td>$7,000</td>\n",
       "      <td>$673</td>\n",
       "    </tr>\n",
       "    <tr>\n",
       "      <th>2</th>\n",
       "      <td>$25,000</td>\n",
       "      <td>$25,000</td>\n",
       "      <td>$24,725</td>\n",
       "    </tr>\n",
       "    <tr>\n",
       "      <th>3</th>\n",
       "      <td>$1,200</td>\n",
       "      <td>$1,200</td>\n",
       "      <td>$1,200</td>\n",
       "    </tr>\n",
       "    <tr>\n",
       "      <th>4</th>\n",
       "      <td>$10,800</td>\n",
       "      <td>$10,800</td>\n",
       "      <td>$10,692</td>\n",
       "    </tr>\n",
       "    <tr>\n",
       "      <th>5</th>\n",
       "      <td>$7,200</td>\n",
       "      <td>$7,200</td>\n",
       "      <td>$7,200</td>\n",
       "    </tr>\n",
       "    <tr>\n",
       "      <th>6</th>\n",
       "      <td>$7,500</td>\n",
       "      <td>$5,025</td>\n",
       "      <td>$557</td>\n",
       "    </tr>\n",
       "    <tr>\n",
       "      <th>7</th>\n",
       "      <td>$3,000</td>\n",
       "      <td>$3,000</td>\n",
       "      <td>$2,988</td>\n",
       "    </tr>\n",
       "    <tr>\n",
       "      <th>8</th>\n",
       "      <td>$4,000</td>\n",
       "      <td>$4,000</td>\n",
       "      <td>$3,900</td>\n",
       "    </tr>\n",
       "    <tr>\n",
       "      <th>9</th>\n",
       "      <td>$5,600</td>\n",
       "      <td>$5,600</td>\n",
       "      <td>$5,525</td>\n",
       "    </tr>\n",
       "  </tbody>\n",
       "</table>\n",
       "</div>"
      ],
      "text/plain": [
       "        X4       X5       X6\n",
       "0  $25,000  $25,000  $19,080\n",
       "1   $7,000   $7,000     $673\n",
       "2  $25,000  $25,000  $24,725\n",
       "3   $1,200   $1,200   $1,200\n",
       "4  $10,800  $10,800  $10,692\n",
       "5   $7,200   $7,200   $7,200\n",
       "6   $7,500   $5,025     $557\n",
       "7   $3,000   $3,000   $2,988\n",
       "8   $4,000   $4,000   $3,900\n",
       "9   $5,600   $5,600   $5,525"
      ]
     },
     "execution_count": 7,
     "metadata": {},
     "output_type": "execute_result"
    }
   ],
   "source": [
    "df[['X4','X5','X6']].head(10)"
   ]
  },
  {
   "cell_type": "code",
   "execution_count": 8,
   "metadata": {},
   "outputs": [
    {
     "data": {
      "text/html": [
       "<div>\n",
       "<style scoped>\n",
       "    .dataframe tbody tr th:only-of-type {\n",
       "        vertical-align: middle;\n",
       "    }\n",
       "\n",
       "    .dataframe tbody tr th {\n",
       "        vertical-align: top;\n",
       "    }\n",
       "\n",
       "    .dataframe thead th {\n",
       "        text-align: right;\n",
       "    }\n",
       "</style>\n",
       "<table border=\"1\" class=\"dataframe\">\n",
       "  <thead>\n",
       "    <tr style=\"text-align: right;\">\n",
       "      <th></th>\n",
       "      <th>X4</th>\n",
       "      <th>X5</th>\n",
       "      <th>X6</th>\n",
       "    </tr>\n",
       "  </thead>\n",
       "  <tbody>\n",
       "    <tr>\n",
       "      <th>0</th>\n",
       "      <td>25000.0</td>\n",
       "      <td>25000.0</td>\n",
       "      <td>19080.0</td>\n",
       "    </tr>\n",
       "    <tr>\n",
       "      <th>1</th>\n",
       "      <td>7000.0</td>\n",
       "      <td>7000.0</td>\n",
       "      <td>673.0</td>\n",
       "    </tr>\n",
       "    <tr>\n",
       "      <th>2</th>\n",
       "      <td>25000.0</td>\n",
       "      <td>25000.0</td>\n",
       "      <td>24725.0</td>\n",
       "    </tr>\n",
       "    <tr>\n",
       "      <th>3</th>\n",
       "      <td>1200.0</td>\n",
       "      <td>1200.0</td>\n",
       "      <td>1200.0</td>\n",
       "    </tr>\n",
       "    <tr>\n",
       "      <th>4</th>\n",
       "      <td>10800.0</td>\n",
       "      <td>10800.0</td>\n",
       "      <td>10692.0</td>\n",
       "    </tr>\n",
       "    <tr>\n",
       "      <th>5</th>\n",
       "      <td>7200.0</td>\n",
       "      <td>7200.0</td>\n",
       "      <td>7200.0</td>\n",
       "    </tr>\n",
       "    <tr>\n",
       "      <th>6</th>\n",
       "      <td>7500.0</td>\n",
       "      <td>5025.0</td>\n",
       "      <td>557.0</td>\n",
       "    </tr>\n",
       "    <tr>\n",
       "      <th>7</th>\n",
       "      <td>3000.0</td>\n",
       "      <td>3000.0</td>\n",
       "      <td>2988.0</td>\n",
       "    </tr>\n",
       "    <tr>\n",
       "      <th>8</th>\n",
       "      <td>4000.0</td>\n",
       "      <td>4000.0</td>\n",
       "      <td>3900.0</td>\n",
       "    </tr>\n",
       "    <tr>\n",
       "      <th>9</th>\n",
       "      <td>5600.0</td>\n",
       "      <td>5600.0</td>\n",
       "      <td>5525.0</td>\n",
       "    </tr>\n",
       "    <tr>\n",
       "      <th>10</th>\n",
       "      <td>3200.0</td>\n",
       "      <td>3200.0</td>\n",
       "      <td>3200.0</td>\n",
       "    </tr>\n",
       "    <tr>\n",
       "      <th>11</th>\n",
       "      <td>4000.0</td>\n",
       "      <td>4000.0</td>\n",
       "      <td>3892.0</td>\n",
       "    </tr>\n",
       "    <tr>\n",
       "      <th>12</th>\n",
       "      <td>5000.0</td>\n",
       "      <td>2650.0</td>\n",
       "      <td>495.0</td>\n",
       "    </tr>\n",
       "    <tr>\n",
       "      <th>13</th>\n",
       "      <td>2525.0</td>\n",
       "      <td>2525.0</td>\n",
       "      <td>2375.0</td>\n",
       "    </tr>\n",
       "    <tr>\n",
       "      <th>14</th>\n",
       "      <td>10625.0</td>\n",
       "      <td>10625.0</td>\n",
       "      <td>5325.0</td>\n",
       "    </tr>\n",
       "    <tr>\n",
       "      <th>15</th>\n",
       "      <td>2800.0</td>\n",
       "      <td>2800.0</td>\n",
       "      <td>2700.0</td>\n",
       "    </tr>\n",
       "    <tr>\n",
       "      <th>16</th>\n",
       "      <td>7500.0</td>\n",
       "      <td>7500.0</td>\n",
       "      <td>986.0</td>\n",
       "    </tr>\n",
       "    <tr>\n",
       "      <th>17</th>\n",
       "      <td>10000.0</td>\n",
       "      <td>10000.0</td>\n",
       "      <td>10000.0</td>\n",
       "    </tr>\n",
       "    <tr>\n",
       "      <th>18</th>\n",
       "      <td>3000.0</td>\n",
       "      <td>3000.0</td>\n",
       "      <td>3000.0</td>\n",
       "    </tr>\n",
       "    <tr>\n",
       "      <th>19</th>\n",
       "      <td>6625.0</td>\n",
       "      <td>6625.0</td>\n",
       "      <td>6475.0</td>\n",
       "    </tr>\n",
       "  </tbody>\n",
       "</table>\n",
       "</div>"
      ],
      "text/plain": [
       "         X4       X5       X6\n",
       "0   25000.0  25000.0  19080.0\n",
       "1    7000.0   7000.0    673.0\n",
       "2   25000.0  25000.0  24725.0\n",
       "3    1200.0   1200.0   1200.0\n",
       "4   10800.0  10800.0  10692.0\n",
       "5    7200.0   7200.0   7200.0\n",
       "6    7500.0   5025.0    557.0\n",
       "7    3000.0   3000.0   2988.0\n",
       "8    4000.0   4000.0   3900.0\n",
       "9    5600.0   5600.0   5525.0\n",
       "10   3200.0   3200.0   3200.0\n",
       "11   4000.0   4000.0   3892.0\n",
       "12   5000.0   2650.0    495.0\n",
       "13   2525.0   2525.0   2375.0\n",
       "14  10625.0  10625.0   5325.0\n",
       "15   2800.0   2800.0   2700.0\n",
       "16   7500.0   7500.0    986.0\n",
       "17  10000.0  10000.0  10000.0\n",
       "18   3000.0   3000.0   3000.0\n",
       "19   6625.0   6625.0   6475.0"
      ]
     },
     "execution_count": 8,
     "metadata": {},
     "output_type": "execute_result"
    }
   ],
   "source": [
    "#Removing special characters from loan amount requested, funded and investor funded portion of loan columns\n",
    "df[['X4', 'X5','X6']] = df[['X4', 'X5','X6']].replace({'\\$':'', ',':''}, regex=True).astype(float)\n",
    "df[['X4', 'X5','X6']].head(20)"
   ]
  },
  {
   "cell_type": "code",
   "execution_count": null,
   "metadata": {},
   "outputs": [],
   "source": [
    "# count the number of values that are not the same X4 and X5\n",
    "count_not_same = df['X4'].ne(df['X5']).sum()\n",
    "\n",
    "print(\"Number of values that are not the same in the two columns:\", count_not_same)"
   ]
  },
  {
   "cell_type": "markdown",
   "metadata": {},
   "source": [
    "dropping loan_id and borrower_id as they might not contribute anything significant to the model because they \n",
    "are all unique. Amount requested and amount funded columns have almost same values and I am therefore \n",
    "dropping X4. I am dropping loan subgrade as it would take too many variables to use it for any explanation and there is a loan grade variable anyway. Dropping loan reason as it has too many missing values and loan title because it has alot of meaning less text and also there is a loan category column that can explain some of what title can. And X26 has more than 50% missing values. \n"
   ]
  },
  {
   "cell_type": "code",
   "execution_count": 9,
   "metadata": {},
   "outputs": [],
   "source": [
    "df = df.drop(['X2','X3','X4','X9','X16','X18','X26'],axis=1)"
   ]
  },
  {
   "cell_type": "code",
   "execution_count": 10,
   "metadata": {},
   "outputs": [
    {
     "name": "stderr",
     "output_type": "stream",
     "text": [
      "/var/folders/_p/sktqnyb16qlfj7xjl0gfncgh0000gn/T/ipykernel_31247/1926396633.py:3: UserWarning: \n",
      "\n",
      "`distplot` is a deprecated function and will be removed in seaborn v0.14.0.\n",
      "\n",
      "Please adapt your code to use either `displot` (a figure-level function with\n",
      "similar flexibility) or `histplot` (an axes-level function for histograms).\n",
      "\n",
      "For a guide to updating your code to use the new functions, please see\n",
      "https://gist.github.com/mwaskom/de44147ed2974457ad6372750bbe5751\n",
      "\n",
      "  sns.distplot(df['X1'])\n"
     ]
    },
    {
     "data": {
      "text/plain": [
       "<AxesSubplot: xlabel='X1', ylabel='Density'>"
      ]
     },
     "execution_count": 10,
     "metadata": {},
     "output_type": "execute_result"
    },
    {
     "data": {
      "image/png": "[encoded data removed]",
      "text/plain": [
       "<Figure size 640x480 with 1 Axes>"
      ]
     },
     "metadata": {},
     "output_type": "display_data"
    }
   ],
   "source": [
    "#removing special characters in target varaible, converting it to float and dividing it by 100\n",
    "df['X1']=df['X1'].replace({'%':''}, regex=True).astype(float)\n",
    "df['X1'] = df['X1']/100\n",
    "sns.distplot(df['X1'])"
   ]
  },
  {
   "cell_type": "code",
   "execution_count": 11,
   "metadata": {},
   "outputs": [
    {
     "data": {
      "text/plain": [
       " 36 months    247791\n",
       " 60 months     91198\n",
       "Name: X7, dtype: int64"
      ]
     },
     "execution_count": 11,
     "metadata": {},
     "output_type": "execute_result"
    }
   ],
   "source": [
    "df['X7'].value_counts()"
   ]
  },
  {
   "cell_type": "code",
   "execution_count": 12,
   "metadata": {},
   "outputs": [
    {
     "data": {
      "image/png": "[encoded data removed]",
      "text/plain": [
       "<Figure size 640x480 with 1 Axes>"
      ]
     },
     "metadata": {},
     "output_type": "display_data"
    }
   ],
   "source": [
    "#plotting relationship between number of payments and average interest rate\n",
    "grouped = df.groupby('X7')['X1'].mean()\n",
    "grouped.plot(kind='bar')\n",
    "plt.xlabel('Number of payments')\n",
    "plt.ylabel('Average Interest Rate')\n",
    "plt.show()"
   ]
  },
  {
   "cell_type": "code",
   "execution_count": 13,
   "metadata": {},
   "outputs": [],
   "source": [
    "#creating a new feature for 60 months using dummy variable from the number of payments column\n",
    "df['X7_60months'] = df['X7'].apply(lambda x: 1 if x == '60 months' else 0)\n",
    "df = df.drop('X7',axis=1)"
   ]
  },
  {
   "cell_type": "code",
   "execution_count": 14,
   "metadata": {},
   "outputs": [
    {
     "data": {
      "image/png": "[encoded data removed]",
      "text/plain": [
       "<Figure size 640x480 with 1 Axes>"
      ]
     },
     "metadata": {},
     "output_type": "display_data"
    }
   ],
   "source": [
    "#plotting relationship between loangrade and average interest rate\n",
    "grouped = df.groupby('X8')['X1'].mean()\n",
    "grouped.plot(kind='bar')\n",
    "plt.xlabel('loan grade')\n",
    "plt.ylabel('Average Interest Rate')\n",
    "plt.show()"
   ]
  },
  {
   "cell_type": "code",
   "execution_count": 15,
   "metadata": {},
   "outputs": [],
   "source": [
    "#Creating a separate column with null values as I dont want to lose any rows in the data and also \n",
    "#I want loan grade in my variables\n",
    "df['X8'].fillna('Unknown', inplace=True)\n",
    "X8_dummies = pd.get_dummies(df['X8'], prefix='X8')\n",
    "df = pd.concat([df, X8_dummies], axis=1)\n",
    "df = df.drop('X8',axis=1)"
   ]
  },
  {
   "cell_type": "code",
   "execution_count": 16,
   "metadata": {},
   "outputs": [],
   "source": [
    "#Being unemployed might significantly affect the interest rate but job title is not capturing \n",
    "#employment/unemployment well\n",
    "df = df.drop('X10',axis=1)"
   ]
  },
  {
   "cell_type": "code",
   "execution_count": 17,
   "metadata": {},
   "outputs": [
    {
     "data": {
      "image/png": "[encoded data removed]",
      "text/plain": [
       "<Figure size 640x480 with 1 Axes>"
      ]
     },
     "metadata": {},
     "output_type": "display_data"
    }
   ],
   "source": [
    "# Plotting relationship between average interest rate and number of years employed\n",
    "grouped = df.groupby('X11')['X1'].mean()\n",
    "grouped.plot(kind='bar')\n",
    "plt.xlabel('number of years employed')\n",
    "plt.ylabel('Average Interest Rate')\n",
    "plt.show()"
   ]
  },
  {
   "cell_type": "code",
   "execution_count": 18,
   "metadata": {},
   "outputs": [
    {
     "name": "stdout",
     "output_type": "stream",
     "text": [
      "The spearman correlation between number of years employed and the target variable is: 0.10909090909090911\n"
     ]
    }
   ],
   "source": [
    "#chceking for correlation to decide whether to keep the column or drop it\n",
    "import scipy.stats\n",
    "# Group the data by the categorical column\n",
    "grouped = df.groupby('X11')['X1'].mean()\n",
    "\n",
    "# Calculate the correlation using the spearman method\n",
    "correlation, p_value = scipy.stats.spearmanr(grouped.index, grouped.values)\n",
    "print(\"The spearman correlation between number of years employed and the target variable is:\", correlation)"
   ]
  },
  {
   "cell_type": "code",
   "execution_count": 19,
   "metadata": {},
   "outputs": [
    {
     "name": "stdout",
     "output_type": "stream",
     "text": [
      "R-squared: 0.0016400338555224714\n"
     ]
    }
   ],
   "source": [
    "import pandas as pd\n",
    "import numpy as np\n",
    "from sklearn.linear_model import LinearRegression\n",
    "df['X11'] = df['X11'].astype('category')\n",
    "df_model = df[['X11', 'X1']]\n",
    "zip_dummies = pd.get_dummies(df_model['X11'], prefix='zip')\n",
    "df_model = pd.concat([zip_dummies, df_model['X1']], axis=1)\n",
    "X = df_model.iloc[:, :-1]\n",
    "y = df_model.iloc[:, -1]\n",
    "reg = LinearRegression().fit(X, y)\n",
    "r_squared = reg.score(X, y)\n",
    "print(\"R-squared:\", r_squared)"
   ]
  },
  {
   "cell_type": "code",
   "execution_count": 20,
   "metadata": {},
   "outputs": [],
   "source": [
    "#dropping the column as both corrleation and R-squared do not imply significance\n",
    "df = df.drop('X11',axis=1)"
   ]
  },
  {
   "cell_type": "code",
   "execution_count": 21,
   "metadata": {},
   "outputs": [
    {
     "data": {
      "text/plain": [
       "MORTGAGE    145958\n",
       "RENT        115958\n",
       "OWN          24976\n",
       "OTHER          107\n",
       "NONE            30\n",
       "ANY              1\n",
       "Name: X12, dtype: int64"
      ]
     },
     "execution_count": 21,
     "metadata": {},
     "output_type": "execute_result"
    }
   ],
   "source": [
    "df['X12'].value_counts()"
   ]
  },
  {
   "cell_type": "code",
   "execution_count": 23,
   "metadata": {},
   "outputs": [
    {
     "data": {
      "image/png": "[encoded data removed]",
      "text/plain": [
       "<Figure size 640x480 with 1 Axes>"
      ]
     },
     "metadata": {},
     "output_type": "display_data"
    }
   ],
   "source": [
    "# Plotting relationship between average interest rate and home ownership\n",
    "grouped = df.groupby('X12')['X1'].mean()\n",
    "grouped.plot(kind='bar')\n",
    "plt.xlabel('home ownership')\n",
    "plt.ylabel('Average Interest Rate')\n",
    "plt.show()"
   ]
  },
  {
   "cell_type": "code",
   "execution_count": 24,
   "metadata": {},
   "outputs": [
    {
     "name": "stdout",
     "output_type": "stream",
     "text": [
      "The spearman correlation between number of years employed and the target variable is: 0.7142857142857143\n"
     ]
    }
   ],
   "source": [
    "import scipy.stats\n",
    "# Group the data by the categorical column\n",
    "grouped = df.groupby('X12')['X1'].mean()\n",
    "\n",
    "# Calculate the correlation using the spearman method\n",
    "correlation, p_value = scipy.stats.spearmanr(grouped.index, grouped.values)\n",
    "print(\"The spearman correlation between number of years employed and the target variable is:\", correlation)"
   ]
  },
  {
   "cell_type": "code",
   "execution_count": 25,
   "metadata": {},
   "outputs": [],
   "source": [
    "#df['X12'].replace('ANY','MORTGAGE',inplace=True)\n",
    "#df['X12'].fillna('NaN', inplace=True)\n",
    "#X12_dummies = pd.get_dummies(df['X12'], prefix='X12')\n",
    "#df = pd.concat([df, X12_dummies], axis=1)\n",
    "df = df.drop('X12',axis=1)\n",
    "#Though the variable as a whole seems to have a good correlation, mortgage, rent and own categories which\n",
    "#constitute majority of the values donot seem to be varying much with average interest rate"
   ]
  },
  {
   "cell_type": "code",
   "execution_count": 26,
   "metadata": {},
   "outputs": [
    {
     "name": "stderr",
     "output_type": "stream",
     "text": [
      "/var/folders/_p/sktqnyb16qlfj7xjl0gfncgh0000gn/T/ipykernel_31247/3467714507.py:1: UserWarning: \n",
      "\n",
      "`distplot` is a deprecated function and will be removed in seaborn v0.14.0.\n",
      "\n",
      "Please adapt your code to use either `displot` (a figure-level function with\n",
      "similar flexibility) or `histplot` (an axes-level function for histograms).\n",
      "\n",
      "For a guide to updating your code to use the new functions, please see\n",
      "https://gist.github.com/mwaskom/de44147ed2974457ad6372750bbe5751\n",
      "\n",
      "  sns.distplot(df[df['X13'].notnull()]['X13'])\n"
     ]
    },
    {
     "data": {
      "text/plain": [
       "<AxesSubplot: xlabel='X13', ylabel='Density'>"
      ]
     },
     "execution_count": 26,
     "metadata": {},
     "output_type": "execute_result"
    },
    {
     "data": {
      "image/png": "[encoded data removed]",
      "text/plain": [
       "<Figure size 640x480 with 1 Axes>"
      ]
     },
     "metadata": {},
     "output_type": "display_data"
    }
   ],
   "source": [
    "sns.distplot(df[df['X13'].notnull()]['X13'])"
   ]
  },
  {
   "cell_type": "code",
   "execution_count": 27,
   "metadata": {},
   "outputs": [
    {
     "data": {
      "text/plain": [
       "0    85000.0\n",
       "1    65000.0\n",
       "2    70000.0\n",
       "3    54000.0\n",
       "4    32000.0\n",
       "Name: X13, dtype: float64"
      ]
     },
     "execution_count": 27,
     "metadata": {},
     "output_type": "execute_result"
    }
   ],
   "source": [
    "df['X13'].head()"
   ]
  },
  {
   "cell_type": "code",
   "execution_count": 28,
   "metadata": {},
   "outputs": [],
   "source": [
    "# Fill missing values in the column with the median as income usually has outliers\n",
    "df['X13'].fillna(df['X13'].median(), inplace=True)"
   ]
  },
  {
   "cell_type": "code",
   "execution_count": 29,
   "metadata": {},
   "outputs": [],
   "source": [
    "#Believing verification of income/income source will have the same impact on target variable:\n",
    "df['X14'] = df['X14'].replace(['VERIFIED - income source'], 'VERIFIED - income')"
   ]
  },
  {
   "cell_type": "code",
   "execution_count": 30,
   "metadata": {},
   "outputs": [
    {
     "data": {
      "image/png": "[encoded data removed]",
      "text/plain": [
       "<Figure size 640x480 with 1 Axes>"
      ]
     },
     "metadata": {},
     "output_type": "display_data"
    }
   ],
   "source": [
    "# plotting relationship between income verified ststus and average interest rate\n",
    "grouped = df.groupby('X14')['X1'].mean()\n",
    "grouped.plot(kind='bar')\n",
    "plt.xlabel('income verified status')\n",
    "plt.ylabel('Average Interest Rate')\n",
    "plt.show()"
   ]
  },
  {
   "cell_type": "code",
   "execution_count": 31,
   "metadata": {},
   "outputs": [],
   "source": [
    "#Creating a separate column to capture significance of income-verified\n",
    "df['X14_verified'] = df['X14'].apply(lambda x: 1 if x == 'VERIFIED - income' else 0)\n",
    "df = df.drop('X14', axis=1)"
   ]
  },
  {
   "cell_type": "code",
   "execution_count": 32,
   "metadata": {},
   "outputs": [
    {
     "data": {
      "image/png": "[encoded data removed]",
      "text/plain": [
       "<Figure size 640x480 with 1 Axes>"
      ]
     },
     "metadata": {},
     "output_type": "display_data"
    }
   ],
   "source": [
    "#plotting relation between year-quarter and average interest rate\n",
    "df['X15'] = pd.to_datetime(df['X15'], format='%b-%y')\n",
    "df['X15_year_quarter'] = df['X15'].dt.to_period('Q').apply(lambda x: str(x.year) + '-Q' + str(x.quarter))\n",
    "grouped = df.groupby('X15_year_quarter')['X1'].mean()\n",
    "grouped.plot(kind='line')\n",
    "plt.xlabel('year-quarter')\n",
    "plt.ylabel('Average Interest Rate')\n",
    "plt.show()"
   ]
  },
  {
   "cell_type": "code",
   "execution_count": 33,
   "metadata": {},
   "outputs": [
    {
     "name": "stdout",
     "output_type": "stream",
     "text": [
      "The spearman correlation between year-quarter and the target variable is: 0.7903225806451613\n"
     ]
    }
   ],
   "source": [
    "import scipy.stats\n",
    "# Group the data by the categorical column\n",
    "grouped = df.groupby('X15_year_quarter')['X1'].mean()\n",
    "\n",
    "# Calculate the correlation using the spearman method\n",
    "correlation, p_value = scipy.stats.spearmanr(grouped.index, grouped.values)\n",
    "print(\"The spearman correlation between year-quarter and the target variable is:\", correlation)"
   ]
  },
  {
   "cell_type": "code",
   "execution_count": 34,
   "metadata": {},
   "outputs": [],
   "source": [
    "#X15_dummies = pd.get_dummies(df['X15_year_quarter'], prefix='X15')\n",
    "#df = pd.concat([df, X15_dummies], axis=1)\n",
    "df = df.drop(['X15','X15_year_quarter'],axis=1)\n",
    "#though this variable is reducing RMSE a little bit, it is taking too many features and also holdout set \n",
    "#does not have these year-quarters"
   ]
  },
  {
   "cell_type": "code",
   "execution_count": 35,
   "metadata": {},
   "outputs": [
    {
     "data": {
      "image/png": "[encoded data removed]",
      "text/plain": [
       "<Figure size 640x480 with 1 Axes>"
      ]
     },
     "metadata": {},
     "output_type": "display_data"
    }
   ],
   "source": [
    "# plotting relation between loan category and average interest rate\n",
    "grouped = df.groupby('X17')['X1'].mean()\n",
    "grouped.plot(kind='bar')\n",
    "plt.xlabel('Loan category')\n",
    "plt.ylabel('Average Interest Rate')\n",
    "plt.show()"
   ]
  },
  {
   "cell_type": "code",
   "execution_count": 36,
   "metadata": {},
   "outputs": [
    {
     "name": "stdout",
     "output_type": "stream",
     "text": [
      "The spearman correlation between loan category and the target variable is: 0.6351648351648352\n"
     ]
    }
   ],
   "source": [
    "import scipy.stats\n",
    "# Group the data by the categorical column\n",
    "grouped = df.groupby('X17')['X1'].mean()\n",
    "\n",
    "# Calculate the correlation using the spearman method\n",
    "correlation, p_value = scipy.stats.spearmanr(grouped.index, grouped.values)\n",
    "print(\"The spearman correlation between loan category and the target variable is:\", correlation)"
   ]
  },
  {
   "cell_type": "code",
   "execution_count": 37,
   "metadata": {},
   "outputs": [],
   "source": [
    "#keeping the variable. correlation implies significance \n",
    "X17_dummies = pd.get_dummies(df['X17'], prefix='X17')\n",
    "df = pd.concat([df, X17_dummies], axis=1)\n",
    "df = df.drop('X17',axis=1)"
   ]
  },
  {
   "cell_type": "code",
   "execution_count": 38,
   "metadata": {},
   "outputs": [
    {
     "name": "stdout",
     "output_type": "stream",
     "text": [
      "The spearman correlation between zip code and the target variable is: -0.00831333387228718\n"
     ]
    }
   ],
   "source": [
    "import scipy.stats\n",
    "# Group the data by the categorical column\n",
    "grouped = df.groupby('X19')['X1'].mean()\n",
    "\n",
    "# Calculate the correlation using the spearman method\n",
    "correlation, p_value = scipy.stats.spearmanr(grouped.index, grouped.values)\n",
    "print(\"The spearman correlation between zip code and the target variable is:\", correlation)\n"
   ]
  },
  {
   "cell_type": "code",
   "execution_count": 39,
   "metadata": {},
   "outputs": [
    {
     "name": "stdout",
     "output_type": "stream",
     "text": [
      "R-squared: 0.007057344951110545\n"
     ]
    }
   ],
   "source": [
    "import pandas as pd\n",
    "import numpy as np\n",
    "from sklearn.linear_model import LinearRegression\n",
    "df['X19'] = df['X19'].astype('category')\n",
    "df_model = df[['X19', 'X1']]\n",
    "zip_dummies = pd.get_dummies(df_model['X19'], prefix='zip')\n",
    "df_model = pd.concat([zip_dummies, df_model['X1']], axis=1)\n",
    "X = df_model.iloc[:, :-1]\n",
    "y = df_model.iloc[:, -1]\n",
    "reg = LinearRegression().fit(X, y)\n",
    "r_squared = reg.score(X, y)\n",
    "print(\"R-squared:\", r_squared)\n"
   ]
  },
  {
   "cell_type": "code",
   "execution_count": 40,
   "metadata": {},
   "outputs": [],
   "source": [
    "#dropping zip as it would take too many features for little explanation\n",
    "df = df.drop('X19',axis=1)"
   ]
  },
  {
   "cell_type": "code",
   "execution_count": 41,
   "metadata": {},
   "outputs": [
    {
     "name": "stdout",
     "output_type": "stream",
     "text": [
      "The spearman correlation between state and the target variable is: 0.003889555822328931\n"
     ]
    }
   ],
   "source": [
    "import scipy.stats\n",
    "# Group the data by the categorical column\n",
    "grouped = df.groupby('X20')['X1'].mean()\n",
    "\n",
    "# Calculate the correlation using the spearman method\n",
    "correlation, p_value = scipy.stats.spearmanr(grouped.index, grouped.values)\n",
    "print(\"The spearman correlation between state and the target variable is:\", correlation)"
   ]
  },
  {
   "cell_type": "code",
   "execution_count": 42,
   "metadata": {},
   "outputs": [
    {
     "name": "stdout",
     "output_type": "stream",
     "text": [
      "R-squared: 0.0015995403118501672\n"
     ]
    }
   ],
   "source": [
    "import pandas as pd\n",
    "import numpy as np\n",
    "from sklearn.linear_model import LinearRegression\n",
    "df['X20'] = df['X20'].astype('category')\n",
    "df_model = df[['X20', 'X1']]\n",
    "zip_dummies = pd.get_dummies(df_model['X20'], prefix='zip')\n",
    "df_model = pd.concat([zip_dummies, df_model['X1']], axis=1)\n",
    "X = df_model.iloc[:, :-1]\n",
    "y = df_model.iloc[:, -1]\n",
    "reg = LinearRegression().fit(X, y)\n",
    "r_squared = reg.score(X, y)\n",
    "print(\"R-squared:\", r_squared)"
   ]
  },
  {
   "cell_type": "code",
   "execution_count": 43,
   "metadata": {},
   "outputs": [],
   "source": [
    "#dropping borrower state as it would take too many features for little explanation\n",
    "df = df.drop('X20',axis=1)"
   ]
  },
  {
   "cell_type": "code",
   "execution_count": 46,
   "metadata": {},
   "outputs": [],
   "source": [
    "#fixing year in credit line opened date column\n",
    "def fix_year(date):\n",
    "    parts = date.split(\"-\")\n",
    "    month = parts[0]\n",
    "    year = int(parts[1].zfill(2))\n",
    "    if year >= 50:\n",
    "        year += 1900\n",
    "    else:\n",
    "        year += 2000\n",
    "    return month + \"-\" + str(year)\n",
    "\n",
    "\n",
    "df['X23'] = [fix_year(date) for date in df['X23']]"
   ]
  },
  {
   "cell_type": "code",
   "execution_count": 47,
   "metadata": {},
   "outputs": [
    {
     "data": {
      "text/plain": [
       "Oct-2000    2725\n",
       "Aug-2000    2610\n",
       "Oct-1999    2516\n",
       "Nov-1999    2483\n",
       "Oct-2001    2460\n",
       "            ... \n",
       "May-1958       1\n",
       "Jan-1953       1\n",
       "Nov-1958       1\n",
       "Apr-1955       1\n",
       "Dec-1958       1\n",
       "Name: X23, Length: 653, dtype: int64"
      ]
     },
     "execution_count": 47,
     "metadata": {},
     "output_type": "execute_result"
    }
   ],
   "source": [
    "df['X23'].value_counts()"
   ]
  },
  {
   "cell_type": "code",
   "execution_count": 48,
   "metadata": {},
   "outputs": [
    {
     "data": {
      "image/png": "[encoded data removed]",
      "text/plain": [
       "<Figure size 640x480 with 1 Axes>"
      ]
     },
     "metadata": {},
     "output_type": "display_data"
    }
   ],
   "source": [
    "# convert the values to datetime objects\n",
    "df['X23'] = pd.to_datetime(df['X23'], format='%b-%Y')\n",
    "\n",
    "# create a new column with year and quarter\n",
    "df['X23_year_quarter'] = df['X23'].dt.to_period('Q').apply(lambda x: str(x.year) + '-Q' + str(x.quarter))\n",
    "\n",
    "# Group the data by the values in the x column and compute the mean of the y values in each group\n",
    "grouped = df.groupby('X23_year_quarter')['X1'].mean()\n",
    "\n",
    "# Plot a graph of the x column versus the average y values\n",
    "grouped.plot(kind='line')\n",
    "\n",
    "# Add labels to the x and y axes\n",
    "plt.xlabel('year-quarter')\n",
    "plt.ylabel('Average Interest Rate')\n",
    "\n",
    "# Show the plot\n",
    "plt.show()"
   ]
  },
  {
   "cell_type": "code",
   "execution_count": 49,
   "metadata": {},
   "outputs": [
    {
     "name": "stdout",
     "output_type": "stream",
     "text": [
      "The spearman correlation between year-quarter and the target variable is: 0.6071086047230952\n"
     ]
    }
   ],
   "source": [
    "import scipy.stats\n",
    "# Group the data by the categorical column\n",
    "grouped = df.groupby('X23_year_quarter')['X1'].mean()\n",
    "\n",
    "# Calculate the correlation using the spearman method\n",
    "correlation, p_value = scipy.stats.spearmanr(grouped.index, grouped.values)\n",
    "print(\"The spearman correlation between year-quarter and the target variable is:\", correlation)"
   ]
  },
  {
   "cell_type": "code",
   "execution_count": 50,
   "metadata": {},
   "outputs": [
    {
     "name": "stdout",
     "output_type": "stream",
     "text": [
      "R-squared: 0.011288910350829351\n"
     ]
    }
   ],
   "source": [
    "import pandas as pd\n",
    "import numpy as np\n",
    "from sklearn.linear_model import LinearRegression\n",
    "df['X23'] = df['X23'].astype('category')\n",
    "df_model = df[['X23', 'X1']]\n",
    "zip_dummies = pd.get_dummies(df_model['X23'], prefix='X23')\n",
    "df_model = pd.concat([zip_dummies, df_model['X1']], axis=1)\n",
    "X = df_model.iloc[:, :-1]\n",
    "y = df_model.iloc[:, -1]\n",
    "reg = LinearRegression().fit(X, y)\n",
    "r_squared = reg.score(X, y)\n",
    "print(\"R-squared:\", r_squared)"
   ]
  },
  {
   "cell_type": "code",
   "execution_count": 51,
   "metadata": {},
   "outputs": [],
   "source": [
    "#column would take too many features for little explanation\n",
    "df = df.drop(['X23'],axis=1)"
   ]
  },
  {
   "cell_type": "code",
   "execution_count": 53,
   "metadata": {},
   "outputs": [
    {
     "name": "stderr",
     "output_type": "stream",
     "text": [
      "/var/folders/_p/sktqnyb16qlfj7xjl0gfncgh0000gn/T/ipykernel_31247/2977508683.py:3: UserWarning: \n",
      "\n",
      "`distplot` is a deprecated function and will be removed in seaborn v0.14.0.\n",
      "\n",
      "Please adapt your code to use either `displot` (a figure-level function with\n",
      "similar flexibility) or `histplot` (an axes-level function for histograms).\n",
      "\n",
      "For a guide to updating your code to use the new functions, please see\n",
      "https://gist.github.com/mwaskom/de44147ed2974457ad6372750bbe5751\n",
      "\n",
      "  sns.distplot(df[df['X30'].notnull()]['X30'])\n"
     ]
    },
    {
     "data": {
      "text/plain": [
       "<AxesSubplot: xlabel='X30', ylabel='Density'>"
      ]
     },
     "execution_count": 53,
     "metadata": {},
     "output_type": "execute_result"
    },
    {
     "data": {
      "image/png": "[encoded data removed]",
      "text/plain": [
       "<Figure size 640x480 with 1 Axes>"
      ]
     },
     "metadata": {},
     "output_type": "display_data"
    }
   ],
   "source": [
    "#removing special features in revolving line utilisation rate column, converting it to float and dividing by 100\n",
    "df['X30']=df['X30'].replace({'%':''}, regex=True).astype(float)\n",
    "df['X30']=df['X30']/100\n",
    "sns.distplot(df[df['X30'].notnull()]['X30'])"
   ]
  },
  {
   "cell_type": "code",
   "execution_count": 54,
   "metadata": {},
   "outputs": [
    {
     "name": "stderr",
     "output_type": "stream",
     "text": [
      "/var/folders/_p/sktqnyb16qlfj7xjl0gfncgh0000gn/T/ipykernel_31247/875135253.py:2: UserWarning: \n",
      "\n",
      "`distplot` is a deprecated function and will be removed in seaborn v0.14.0.\n",
      "\n",
      "Please adapt your code to use either `displot` (a figure-level function with\n",
      "similar flexibility) or `histplot` (an axes-level function for histograms).\n",
      "\n",
      "For a guide to updating your code to use the new functions, please see\n",
      "https://gist.github.com/mwaskom/de44147ed2974457ad6372750bbe5751\n",
      "\n",
      "  sns.distplot(df['X30'])\n"
     ]
    },
    {
     "data": {
      "text/plain": [
       "<AxesSubplot: xlabel='X30', ylabel='Density'>"
      ]
     },
     "execution_count": 54,
     "metadata": {},
     "output_type": "execute_result"
    },
    {
     "data": {
      "image/png": "[encoded data removed]",
      "text/plain": [
       "<Figure size 640x480 with 1 Axes>"
      ]
     },
     "metadata": {},
     "output_type": "display_data"
    }
   ],
   "source": [
    "#interpolating missing values\n",
    "df['X30']=df['X30'].interpolate()\n",
    "sns.distplot(df['X30'])"
   ]
  },
  {
   "cell_type": "code",
   "execution_count": 55,
   "metadata": {},
   "outputs": [],
   "source": [
    "#creating a column for closed credit line\n",
    "df['closed_creditline'] = df['X31'] - df['X27']\n",
    "df['unclosed_creditline'] = df['closed_creditline'].apply(lambda x: 1 if x == 0 else 0)\n",
    "df = df.drop(['X31', 'closed_creditline'], axis=1)"
   ]
  },
  {
   "cell_type": "code",
   "execution_count": 122,
   "metadata": {},
   "outputs": [
    {
     "data": {
      "text/plain": [
       "f    274313\n",
       "w    125686\n",
       "Name: X32, dtype: int64"
      ]
     },
     "execution_count": 122,
     "metadata": {},
     "output_type": "execute_result"
    }
   ],
   "source": [
    "df['X32'].value_counts()"
   ]
  },
  {
   "cell_type": "code",
   "execution_count": 56,
   "metadata": {},
   "outputs": [],
   "source": [
    "X32_dummies = pd.get_dummies(df['X32'], prefix='X32')\n",
    "df = pd.concat([df, X32_dummies], axis=1)\n",
    "df = df.drop(['X32'],axis=1)"
   ]
  },
  {
   "cell_type": "code",
   "execution_count": 57,
   "metadata": {},
   "outputs": [],
   "source": [
    "duplicate_df=df.copy()"
   ]
  },
  {
   "cell_type": "code",
   "execution_count": 58,
   "metadata": {},
   "outputs": [
    {
     "data": {
      "text/plain": [
       "0     NaN\n",
       "1     NaN\n",
       "2    41.0\n",
       "3    64.0\n",
       "4    58.0\n",
       "Name: X25, dtype: float64"
      ]
     },
     "execution_count": 58,
     "metadata": {},
     "output_type": "execute_result"
    }
   ],
   "source": [
    "df['X25'].head()"
   ]
  },
  {
   "cell_type": "code",
   "execution_count": 59,
   "metadata": {},
   "outputs": [
    {
     "name": "stderr",
     "output_type": "stream",
     "text": [
      "/var/folders/_p/sktqnyb16qlfj7xjl0gfncgh0000gn/T/ipykernel_31247/432376727.py:1: UserWarning: \n",
      "\n",
      "`distplot` is a deprecated function and will be removed in seaborn v0.14.0.\n",
      "\n",
      "Please adapt your code to use either `displot` (a figure-level function with\n",
      "similar flexibility) or `histplot` (an axes-level function for histograms).\n",
      "\n",
      "For a guide to updating your code to use the new functions, please see\n",
      "https://gist.github.com/mwaskom/de44147ed2974457ad6372750bbe5751\n",
      "\n",
      "  sns.distplot(df[df['X25'].notnull()]['X25'])\n"
     ]
    },
    {
     "data": {
      "text/plain": [
       "<AxesSubplot: xlabel='X25', ylabel='Density'>"
      ]
     },
     "execution_count": 59,
     "metadata": {},
     "output_type": "execute_result"
    },
    {
     "data": {
      "image/png": "[encoded data removed]",
      "text/plain": [
       "<Figure size 640x480 with 1 Axes>"
      ]
     },
     "metadata": {},
     "output_type": "display_data"
    }
   ],
   "source": [
    "sns.distplot(df[df['X25'].notnull()]['X25'])"
   ]
  },
  {
   "cell_type": "code",
   "execution_count": null,
   "metadata": {},
   "outputs": [],
   "source": [
    "import scipy.stats\n",
    "# Group the data by the categorical column\n",
    "grouped = df.groupby('X25')['X1'].mean()\n",
    "\n",
    "# Calculate the correlation using the spearman method\n",
    "correlation, p_value = scipy.stats.spearmanr(grouped.index, grouped.values)\n",
    "print(\"The spearman correlation is:\", correlation)"
   ]
  },
  {
   "cell_type": "code",
   "execution_count": 61,
   "metadata": {},
   "outputs": [],
   "source": [
    "#from sklearn.impute import KNNImputer\n",
    "\n",
    "# create an instance of the KNNImputer\n",
    "#imputer = KNNImputer(n_neighbors=2)\n",
    "\n",
    "# fit the imputer on the single column\n",
    "#column_1_imputed = imputer.fit_transform(df[['X25']])\n",
    "\n",
    "# fill in the missing values in the original dataframe\n",
    "#df['X25'] = column_1_imputed\n",
    "\n",
    "#sns.distplot(df['X25'])"
   ]
  },
  {
   "cell_type": "code",
   "execution_count": 62,
   "metadata": {},
   "outputs": [],
   "source": [
    "#predicting missing values using linear regression\n",
    "from sklearn.linear_model import LinearRegression\n",
    "missing_index = duplicate_df[duplicate_df['X25'].isnull()].index\n",
    "df_train = duplicate_df.dropna()\n",
    "model = LinearRegression()\n",
    "model.fit(df_train.index.values.reshape(-1, 1), df_train['X25'])\n",
    "column_1_predicted = model.predict(missing_index.values.reshape(-1, 1))\n",
    "duplicate_df.loc[missing_index, 'X25'] = column_1_predicted"
   ]
  },
  {
   "cell_type": "code",
   "execution_count": 63,
   "metadata": {},
   "outputs": [
    {
     "name": "stderr",
     "output_type": "stream",
     "text": [
      "/var/folders/_p/sktqnyb16qlfj7xjl0gfncgh0000gn/T/ipykernel_31247/2154306651.py:1: UserWarning: \n",
      "\n",
      "`distplot` is a deprecated function and will be removed in seaborn v0.14.0.\n",
      "\n",
      "Please adapt your code to use either `displot` (a figure-level function with\n",
      "similar flexibility) or `histplot` (an axes-level function for histograms).\n",
      "\n",
      "For a guide to updating your code to use the new functions, please see\n",
      "https://gist.github.com/mwaskom/de44147ed2974457ad6372750bbe5751\n",
      "\n",
      "  sns.distplot(duplicate_df['X25'])\n"
     ]
    },
    {
     "data": {
      "text/plain": [
       "<AxesSubplot: xlabel='X25', ylabel='Density'>"
      ]
     },
     "execution_count": 63,
     "metadata": {},
     "output_type": "execute_result"
    },
    {
     "data": {
      "image/png": "[encoded data removed]",
      "text/plain": [
       "<Figure size 640x480 with 1 Axes>"
      ]
     },
     "metadata": {},
     "output_type": "display_data"
    }
   ],
   "source": [
    "sns.distplot(duplicate_df['X25'])"
   ]
  },
  {
   "cell_type": "code",
   "execution_count": 64,
   "metadata": {},
   "outputs": [],
   "source": [
    "#tried KNN imputing, interpolate, mean and median fill. But the distribution is being highly effected and \n",
    "#spearman correlation and R-squared donot imply any significance\n",
    "df = df.drop('X25',axis=1)"
   ]
  },
  {
   "cell_type": "code",
   "execution_count": 65,
   "metadata": {},
   "outputs": [
    {
     "name": "stdout",
     "output_type": "stream",
     "text": [
      "<class 'pandas.core.frame.DataFrame'>\n",
      "Int64Index: 338989 entries, 0 to 399999\n",
      "Data columns (total 39 columns):\n",
      " #   Column                  Non-Null Count   Dtype  \n",
      "---  ------                  --------------   -----  \n",
      " 0   X1                      338989 non-null  float64\n",
      " 1   X5                      338989 non-null  float64\n",
      " 2   X6                      338989 non-null  float64\n",
      " 3   X13                     338989 non-null  float64\n",
      " 4   X21                     338989 non-null  float64\n",
      " 5   X22                     338989 non-null  float64\n",
      " 6   X24                     338989 non-null  float64\n",
      " 7   X27                     338989 non-null  float64\n",
      " 8   X28                     338989 non-null  float64\n",
      " 9   X29                     338989 non-null  float64\n",
      " 10  X30                     338989 non-null  float64\n",
      " 11  X7_60months             338989 non-null  int64  \n",
      " 12  X8_A                    338989 non-null  uint8  \n",
      " 13  X8_B                    338989 non-null  uint8  \n",
      " 14  X8_C                    338989 non-null  uint8  \n",
      " 15  X8_D                    338989 non-null  uint8  \n",
      " 16  X8_E                    338989 non-null  uint8  \n",
      " 17  X8_F                    338989 non-null  uint8  \n",
      " 18  X8_G                    338989 non-null  uint8  \n",
      " 19  X8_Unknown              338989 non-null  uint8  \n",
      " 20  X14_verified            338989 non-null  int64  \n",
      " 21  X17_car                 338989 non-null  uint8  \n",
      " 22  X17_credit_card         338989 non-null  uint8  \n",
      " 23  X17_debt_consolidation  338989 non-null  uint8  \n",
      " 24  X17_educational         338989 non-null  uint8  \n",
      " 25  X17_home_improvement    338989 non-null  uint8  \n",
      " 26  X17_house               338989 non-null  uint8  \n",
      " 27  X17_major_purchase      338989 non-null  uint8  \n",
      " 28  X17_medical             338989 non-null  uint8  \n",
      " 29  X17_moving              338989 non-null  uint8  \n",
      " 30  X17_other               338989 non-null  uint8  \n",
      " 31  X17_renewable_energy    338989 non-null  uint8  \n",
      " 32  X17_small_business      338989 non-null  uint8  \n",
      " 33  X17_vacation            338989 non-null  uint8  \n",
      " 34  X17_wedding             338989 non-null  uint8  \n",
      " 35  X23_year_quarter        338989 non-null  object \n",
      " 36  unclosed_creditline     338989 non-null  int64  \n",
      " 37  X32_f                   338989 non-null  uint8  \n",
      " 38  X32_w                   338989 non-null  uint8  \n",
      "dtypes: float64(11), int64(3), object(1), uint8(24)\n",
      "memory usage: 57.2+ MB\n"
     ]
    }
   ],
   "source": [
    "df.info()"
   ]
  },
  {
   "cell_type": "code",
   "execution_count": 66,
   "metadata": {},
   "outputs": [],
   "source": [
    "df=df.drop('X23_year_quarter',axis=1)"
   ]
  },
  {
   "cell_type": "markdown",
   "metadata": {},
   "source": [
    "#### Step 2: Build models"
   ]
  },
  {
   "cell_type": "code",
   "execution_count": 106,
   "metadata": {},
   "outputs": [],
   "source": [
    "X,y=df.drop(['X1'],axis=1), df['X1']"
   ]
  },
  {
   "cell_type": "code",
   "execution_count": 68,
   "metadata": {},
   "outputs": [
    {
     "data": {
      "text/plain": [
       "0    0.1189\n",
       "1    0.1071\n",
       "2    0.1699\n",
       "3    0.1311\n",
       "4    0.1357\n",
       "Name: X1, dtype: float64"
      ]
     },
     "execution_count": 68,
     "metadata": {},
     "output_type": "execute_result"
    }
   ],
   "source": [
    "y.head()"
   ]
  },
  {
   "cell_type": "code",
   "execution_count": 107,
   "metadata": {},
   "outputs": [],
   "source": [
    "#Splitting data into train and test\n",
    "X_train, X_test, y_train, y_test = train_test_split(X, y, train_size=0.8, test_size=0.2)"
   ]
  },
  {
   "cell_type": "code",
   "execution_count": 70,
   "metadata": {},
   "outputs": [
    {
     "name": "stdout",
     "output_type": "stream",
     "text": [
      "<class 'pandas.core.frame.DataFrame'>\n",
      "Int64Index: 271191 entries, 313027 to 5628\n",
      "Data columns (total 37 columns):\n",
      " #   Column                  Non-Null Count   Dtype  \n",
      "---  ------                  --------------   -----  \n",
      " 0   X5                      271191 non-null  float64\n",
      " 1   X6                      271191 non-null  float64\n",
      " 2   X13                     271191 non-null  float64\n",
      " 3   X21                     271191 non-null  float64\n",
      " 4   X22                     271191 non-null  float64\n",
      " 5   X24                     271191 non-null  float64\n",
      " 6   X27                     271191 non-null  float64\n",
      " 7   X28                     271191 non-null  float64\n",
      " 8   X29                     271191 non-null  float64\n",
      " 9   X30                     271191 non-null  float64\n",
      " 10  X7_60months             271191 non-null  int64  \n",
      " 11  X8_A                    271191 non-null  uint8  \n",
      " 12  X8_B                    271191 non-null  uint8  \n",
      " 13  X8_C                    271191 non-null  uint8  \n",
      " 14  X8_D                    271191 non-null  uint8  \n",
      " 15  X8_E                    271191 non-null  uint8  \n",
      " 16  X8_F                    271191 non-null  uint8  \n",
      " 17  X8_G                    271191 non-null  uint8  \n",
      " 18  X8_Unknown              271191 non-null  uint8  \n",
      " 19  X14_verified            271191 non-null  int64  \n",
      " 20  X17_car                 271191 non-null  uint8  \n",
      " 21  X17_credit_card         271191 non-null  uint8  \n",
      " 22  X17_debt_consolidation  271191 non-null  uint8  \n",
      " 23  X17_educational         271191 non-null  uint8  \n",
      " 24  X17_home_improvement    271191 non-null  uint8  \n",
      " 25  X17_house               271191 non-null  uint8  \n",
      " 26  X17_major_purchase      271191 non-null  uint8  \n",
      " 27  X17_medical             271191 non-null  uint8  \n",
      " 28  X17_moving              271191 non-null  uint8  \n",
      " 29  X17_other               271191 non-null  uint8  \n",
      " 30  X17_renewable_energy    271191 non-null  uint8  \n",
      " 31  X17_small_business      271191 non-null  uint8  \n",
      " 32  X17_vacation            271191 non-null  uint8  \n",
      " 33  X17_wedding             271191 non-null  uint8  \n",
      " 34  unclosed_creditline     271191 non-null  int64  \n",
      " 35  X32_f                   271191 non-null  uint8  \n",
      " 36  X32_w                   271191 non-null  uint8  \n",
      "dtypes: float64(10), int64(3), uint8(24)\n",
      "memory usage: 35.2 MB\n"
     ]
    }
   ],
   "source": [
    "X_train.info()"
   ]
  },
  {
   "cell_type": "code",
   "execution_count": 108,
   "metadata": {},
   "outputs": [
    {
     "data": {
      "text/html": [
       "<style>#sk-container-id-4 {color: black;background-color: white;}#sk-container-id-4 pre{padding: 0;}#sk-container-id-4 div.sk-toggleable {background-color: white;}#sk-container-id-4 label.sk-toggleable__label {cursor: pointer;display: block;width: 100%;margin-bottom: 0;padding: 0.3em;box-sizing: border-box;text-align: center;}#sk-container-id-4 label.sk-toggleable__label-arrow:before {content: \"▸\";float: left;margin-right: 0.25em;color: #696969;}#sk-container-id-4 label.sk-toggleable__label-arrow:hover:before {color: black;}#sk-container-id-4 div.sk-estimator:hover label.sk-toggleable__label-arrow:before {color: black;}#sk-container-id-4 div.sk-toggleable__content {max-height: 0;max-width: 0;overflow: hidden;text-align: left;background-color: #f0f8ff;}#sk-container-id-4 div.sk-toggleable__content pre {margin: 0.2em;color: black;border-radius: 0.25em;background-color: #f0f8ff;}#sk-container-id-4 input.sk-toggleable__control:checked~div.sk-toggleable__content {max-height: 200px;max-width: 100%;overflow: auto;}#sk-container-id-4 input.sk-toggleable__control:checked~label.sk-toggleable__label-arrow:before {content: \"▾\";}#sk-container-id-4 div.sk-estimator input.sk-toggleable__control:checked~label.sk-toggleable__label {background-color: #d4ebff;}#sk-container-id-4 div.sk-label input.sk-toggleable__control:checked~label.sk-toggleable__label {background-color: #d4ebff;}#sk-container-id-4 input.sk-hidden--visually {border: 0;clip: rect(1px 1px 1px 1px);clip: rect(1px, 1px, 1px, 1px);height: 1px;margin: -1px;overflow: hidden;padding: 0;position: absolute;width: 1px;}#sk-container-id-4 div.sk-estimator {font-family: monospace;background-color: #f0f8ff;border: 1px dotted black;border-radius: 0.25em;box-sizing: border-box;margin-bottom: 0.5em;}#sk-container-id-4 div.sk-estimator:hover {background-color: #d4ebff;}#sk-container-id-4 div.sk-parallel-item::after {content: \"\";width: 100%;border-bottom: 1px solid gray;flex-grow: 1;}#sk-container-id-4 div.sk-label:hover label.sk-toggleable__label {background-color: #d4ebff;}#sk-container-id-4 div.sk-serial::before {content: \"\";position: absolute;border-left: 1px solid gray;box-sizing: border-box;top: 0;bottom: 0;left: 50%;z-index: 0;}#sk-container-id-4 div.sk-serial {display: flex;flex-direction: column;align-items: center;background-color: white;padding-right: 0.2em;padding-left: 0.2em;position: relative;}#sk-container-id-4 div.sk-item {position: relative;z-index: 1;}#sk-container-id-4 div.sk-parallel {display: flex;align-items: stretch;justify-content: center;background-color: white;position: relative;}#sk-container-id-4 div.sk-item::before, #sk-container-id-4 div.sk-parallel-item::before {content: \"\";position: absolute;border-left: 1px solid gray;box-sizing: border-box;top: 0;bottom: 0;left: 50%;z-index: -1;}#sk-container-id-4 div.sk-parallel-item {display: flex;flex-direction: column;z-index: 1;position: relative;background-color: white;}#sk-container-id-4 div.sk-parallel-item:first-child::after {align-self: flex-end;width: 50%;}#sk-container-id-4 div.sk-parallel-item:last-child::after {align-self: flex-start;width: 50%;}#sk-container-id-4 div.sk-parallel-item:only-child::after {width: 0;}#sk-container-id-4 div.sk-dashed-wrapped {border: 1px dashed gray;margin: 0 0.4em 0.5em 0.4em;box-sizing: border-box;padding-bottom: 0.4em;background-color: white;}#sk-container-id-4 div.sk-label label {font-family: monospace;font-weight: bold;display: inline-block;line-height: 1.2em;}#sk-container-id-4 div.sk-label-container {text-align: center;}#sk-container-id-4 div.sk-container {/* jupyter's `normalize.less` sets `[hidden] { display: none; }` but bootstrap.min.css set `[hidden] { display: none !important; }` so we also need the `!important` here to be able to override the default hidden behavior on the sphinx rendered scikit-learn.org. See: https://github.com/scikit-learn/scikit-learn/issues/21755 */display: inline-block !important;position: relative;}#sk-container-id-4 div.sk-text-repr-fallback {display: none;}</style><div id=\"sk-container-id-4\" class=\"sk-top-container\"><div class=\"sk-text-repr-fallback\"><pre>LinearRegression()</pre><b>In a Jupyter environment, please rerun this cell to show the HTML representation or trust the notebook. <br />On GitHub, the HTML representation is unable to render, please try loading this page with nbviewer.org.</b></div><div class=\"sk-container\" hidden><div class=\"sk-item\"><div class=\"sk-estimator sk-toggleable\"><input class=\"sk-toggleable__control sk-hidden--visually\" id=\"sk-estimator-id-4\" type=\"checkbox\" checked><label for=\"sk-estimator-id-4\" class=\"sk-toggleable__label sk-toggleable__label-arrow\">LinearRegression</label><div class=\"sk-toggleable__content\"><pre>LinearRegression()</pre></div></div></div></div></div>"
      ],
      "text/plain": [
       "LinearRegression()"
      ]
     },
     "execution_count": 108,
     "metadata": {},
     "output_type": "execute_result"
    }
   ],
   "source": [
    "#Fitting linear regression\n",
    "from sklearn.linear_model import LinearRegression\n",
    "\n",
    "lr= LinearRegression()\n",
    "lr.fit(X_train, y_train)"
   ]
  },
  {
   "cell_type": "code",
   "execution_count": 110,
   "metadata": {},
   "outputs": [],
   "source": [
    "y_pred_lr_test = lr.predict(X_test)\n",
    "y_pred_lr_train = lr.predict(X_train)"
   ]
  },
  {
   "cell_type": "code",
   "execution_count": 111,
   "metadata": {},
   "outputs": [],
   "source": [
    "from sklearn.metrics import mean_squared_error\n",
    "lr_rmse_test = np.sqrt(mean_squared_error(y_test, y_pred_lr_test))\n",
    "lr_rmse_train = np.sqrt(mean_squared_error(y_train, y_pred_lr_train))"
   ]
  },
  {
   "cell_type": "code",
   "execution_count": 112,
   "metadata": {},
   "outputs": [
    {
     "name": "stdout",
     "output_type": "stream",
     "text": [
      "test set RMSE of lr: 0.020\n",
      "train set RMSE of lr: 0.020\n"
     ]
    }
   ],
   "source": [
    "print('test set RMSE of lr: {:.3f}'.format(lr_rmse_test))\n",
    "print('train set RMSE of lr: {:.3f}'.format(lr_rmse_train))"
   ]
  },
  {
   "cell_type": "code",
   "execution_count": 76,
   "metadata": {},
   "outputs": [],
   "source": [
    "from sklearn.tree import DecisionTreeRegressor\n",
    "from sklearn.metrics import mean_squared_error\n",
    "import numpy as np\n",
    "\n",
    "# Initialize the decision tree regressor\n",
    "dt = DecisionTreeRegressor(random_state=0)"
   ]
  },
  {
   "cell_type": "code",
   "execution_count": 77,
   "metadata": {},
   "outputs": [
    {
     "data": {
      "text/html": [
       "<style>#sk-container-id-2 {color: black;background-color: white;}#sk-container-id-2 pre{padding: 0;}#sk-container-id-2 div.sk-toggleable {background-color: white;}#sk-container-id-2 label.sk-toggleable__label {cursor: pointer;display: block;width: 100%;margin-bottom: 0;padding: 0.3em;box-sizing: border-box;text-align: center;}#sk-container-id-2 label.sk-toggleable__label-arrow:before {content: \"▸\";float: left;margin-right: 0.25em;color: #696969;}#sk-container-id-2 label.sk-toggleable__label-arrow:hover:before {color: black;}#sk-container-id-2 div.sk-estimator:hover label.sk-toggleable__label-arrow:before {color: black;}#sk-container-id-2 div.sk-toggleable__content {max-height: 0;max-width: 0;overflow: hidden;text-align: left;background-color: #f0f8ff;}#sk-container-id-2 div.sk-toggleable__content pre {margin: 0.2em;color: black;border-radius: 0.25em;background-color: #f0f8ff;}#sk-container-id-2 input.sk-toggleable__control:checked~div.sk-toggleable__content {max-height: 200px;max-width: 100%;overflow: auto;}#sk-container-id-2 input.sk-toggleable__control:checked~label.sk-toggleable__label-arrow:before {content: \"▾\";}#sk-container-id-2 div.sk-estimator input.sk-toggleable__control:checked~label.sk-toggleable__label {background-color: #d4ebff;}#sk-container-id-2 div.sk-label input.sk-toggleable__control:checked~label.sk-toggleable__label {background-color: #d4ebff;}#sk-container-id-2 input.sk-hidden--visually {border: 0;clip: rect(1px 1px 1px 1px);clip: rect(1px, 1px, 1px, 1px);height: 1px;margin: -1px;overflow: hidden;padding: 0;position: absolute;width: 1px;}#sk-container-id-2 div.sk-estimator {font-family: monospace;background-color: #f0f8ff;border: 1px dotted black;border-radius: 0.25em;box-sizing: border-box;margin-bottom: 0.5em;}#sk-container-id-2 div.sk-estimator:hover {background-color: #d4ebff;}#sk-container-id-2 div.sk-parallel-item::after {content: \"\";width: 100%;border-bottom: 1px solid gray;flex-grow: 1;}#sk-container-id-2 div.sk-label:hover label.sk-toggleable__label {background-color: #d4ebff;}#sk-container-id-2 div.sk-serial::before {content: \"\";position: absolute;border-left: 1px solid gray;box-sizing: border-box;top: 0;bottom: 0;left: 50%;z-index: 0;}#sk-container-id-2 div.sk-serial {display: flex;flex-direction: column;align-items: center;background-color: white;padding-right: 0.2em;padding-left: 0.2em;position: relative;}#sk-container-id-2 div.sk-item {position: relative;z-index: 1;}#sk-container-id-2 div.sk-parallel {display: flex;align-items: stretch;justify-content: center;background-color: white;position: relative;}#sk-container-id-2 div.sk-item::before, #sk-container-id-2 div.sk-parallel-item::before {content: \"\";position: absolute;border-left: 1px solid gray;box-sizing: border-box;top: 0;bottom: 0;left: 50%;z-index: -1;}#sk-container-id-2 div.sk-parallel-item {display: flex;flex-direction: column;z-index: 1;position: relative;background-color: white;}#sk-container-id-2 div.sk-parallel-item:first-child::after {align-self: flex-end;width: 50%;}#sk-container-id-2 div.sk-parallel-item:last-child::after {align-self: flex-start;width: 50%;}#sk-container-id-2 div.sk-parallel-item:only-child::after {width: 0;}#sk-container-id-2 div.sk-dashed-wrapped {border: 1px dashed gray;margin: 0 0.4em 0.5em 0.4em;box-sizing: border-box;padding-bottom: 0.4em;background-color: white;}#sk-container-id-2 div.sk-label label {font-family: monospace;font-weight: bold;display: inline-block;line-height: 1.2em;}#sk-container-id-2 div.sk-label-container {text-align: center;}#sk-container-id-2 div.sk-container {/* jupyter's `normalize.less` sets `[hidden] { display: none; }` but bootstrap.min.css set `[hidden] { display: none !important; }` so we also need the `!important` here to be able to override the default hidden behavior on the sphinx rendered scikit-learn.org. See: https://github.com/scikit-learn/scikit-learn/issues/21755 */display: inline-block !important;position: relative;}#sk-container-id-2 div.sk-text-repr-fallback {display: none;}</style><div id=\"sk-container-id-2\" class=\"sk-top-container\"><div class=\"sk-text-repr-fallback\"><pre>DecisionTreeRegressor(random_state=0)</pre><b>In a Jupyter environment, please rerun this cell to show the HTML representation or trust the notebook. <br />On GitHub, the HTML representation is unable to render, please try loading this page with nbviewer.org.</b></div><div class=\"sk-container\" hidden><div class=\"sk-item\"><div class=\"sk-estimator sk-toggleable\"><input class=\"sk-toggleable__control sk-hidden--visually\" id=\"sk-estimator-id-2\" type=\"checkbox\" checked><label for=\"sk-estimator-id-2\" class=\"sk-toggleable__label sk-toggleable__label-arrow\">DecisionTreeRegressor</label><div class=\"sk-toggleable__content\"><pre>DecisionTreeRegressor(random_state=0)</pre></div></div></div></div></div>"
      ],
      "text/plain": [
       "DecisionTreeRegressor(random_state=0)"
      ]
     },
     "execution_count": 77,
     "metadata": {},
     "output_type": "execute_result"
    }
   ],
   "source": [
    "# Fit the model on the training data\n",
    "dt.fit(X_train, y_train)\n"
   ]
  },
  {
   "cell_type": "code",
   "execution_count": 78,
   "metadata": {},
   "outputs": [
    {
     "name": "stdout",
     "output_type": "stream",
     "text": [
      "Test RMSE: 0.024879466995114702\n",
      "Train RMSE: 2.3933061363043052e-18\n"
     ]
    }
   ],
   "source": [
    "# Make predictions on the test and train data\n",
    "y_pred_dt_test = dt.predict(X_test)\n",
    "y_pred_dt_train = dt.predict(X_train)\n",
    "\n",
    "# Calculate the RMSE for the test and train data\n",
    "dt_rmse_test = np.sqrt(mean_squared_error(y_test, y_pred_dt_test))\n",
    "dt_rmse_train = np.sqrt(mean_squared_error(y_train, y_pred_dt_train))\n",
    "\n",
    "print(\"Test RMSE:\", dt_rmse_test)\n",
    "print(\"Train RMSE:\", dt_rmse_train)"
   ]
  },
  {
   "cell_type": "code",
   "execution_count": 80,
   "metadata": {},
   "outputs": [],
   "source": [
    "from sklearn.ensemble import RandomForestRegressor\n",
    "\n",
    "# Initialize the random forest regressor\n",
    "rf = RandomForestRegressor()"
   ]
  },
  {
   "cell_type": "code",
   "execution_count": 81,
   "metadata": {},
   "outputs": [
    {
     "data": {
      "text/html": [
       "<style>#sk-container-id-3 {color: black;background-color: white;}#sk-container-id-3 pre{padding: 0;}#sk-container-id-3 div.sk-toggleable {background-color: white;}#sk-container-id-3 label.sk-toggleable__label {cursor: pointer;display: block;width: 100%;margin-bottom: 0;padding: 0.3em;box-sizing: border-box;text-align: center;}#sk-container-id-3 label.sk-toggleable__label-arrow:before {content: \"▸\";float: left;margin-right: 0.25em;color: #696969;}#sk-container-id-3 label.sk-toggleable__label-arrow:hover:before {color: black;}#sk-container-id-3 div.sk-estimator:hover label.sk-toggleable__label-arrow:before {color: black;}#sk-container-id-3 div.sk-toggleable__content {max-height: 0;max-width: 0;overflow: hidden;text-align: left;background-color: #f0f8ff;}#sk-container-id-3 div.sk-toggleable__content pre {margin: 0.2em;color: black;border-radius: 0.25em;background-color: #f0f8ff;}#sk-container-id-3 input.sk-toggleable__control:checked~div.sk-toggleable__content {max-height: 200px;max-width: 100%;overflow: auto;}#sk-container-id-3 input.sk-toggleable__control:checked~label.sk-toggleable__label-arrow:before {content: \"▾\";}#sk-container-id-3 div.sk-estimator input.sk-toggleable__control:checked~label.sk-toggleable__label {background-color: #d4ebff;}#sk-container-id-3 div.sk-label input.sk-toggleable__control:checked~label.sk-toggleable__label {background-color: #d4ebff;}#sk-container-id-3 input.sk-hidden--visually {border: 0;clip: rect(1px 1px 1px 1px);clip: rect(1px, 1px, 1px, 1px);height: 1px;margin: -1px;overflow: hidden;padding: 0;position: absolute;width: 1px;}#sk-container-id-3 div.sk-estimator {font-family: monospace;background-color: #f0f8ff;border: 1px dotted black;border-radius: 0.25em;box-sizing: border-box;margin-bottom: 0.5em;}#sk-container-id-3 div.sk-estimator:hover {background-color: #d4ebff;}#sk-container-id-3 div.sk-parallel-item::after {content: \"\";width: 100%;border-bottom: 1px solid gray;flex-grow: 1;}#sk-container-id-3 div.sk-label:hover label.sk-toggleable__label {background-color: #d4ebff;}#sk-container-id-3 div.sk-serial::before {content: \"\";position: absolute;border-left: 1px solid gray;box-sizing: border-box;top: 0;bottom: 0;left: 50%;z-index: 0;}#sk-container-id-3 div.sk-serial {display: flex;flex-direction: column;align-items: center;background-color: white;padding-right: 0.2em;padding-left: 0.2em;position: relative;}#sk-container-id-3 div.sk-item {position: relative;z-index: 1;}#sk-container-id-3 div.sk-parallel {display: flex;align-items: stretch;justify-content: center;background-color: white;position: relative;}#sk-container-id-3 div.sk-item::before, #sk-container-id-3 div.sk-parallel-item::before {content: \"\";position: absolute;border-left: 1px solid gray;box-sizing: border-box;top: 0;bottom: 0;left: 50%;z-index: -1;}#sk-container-id-3 div.sk-parallel-item {display: flex;flex-direction: column;z-index: 1;position: relative;background-color: white;}#sk-container-id-3 div.sk-parallel-item:first-child::after {align-self: flex-end;width: 50%;}#sk-container-id-3 div.sk-parallel-item:last-child::after {align-self: flex-start;width: 50%;}#sk-container-id-3 div.sk-parallel-item:only-child::after {width: 0;}#sk-container-id-3 div.sk-dashed-wrapped {border: 1px dashed gray;margin: 0 0.4em 0.5em 0.4em;box-sizing: border-box;padding-bottom: 0.4em;background-color: white;}#sk-container-id-3 div.sk-label label {font-family: monospace;font-weight: bold;display: inline-block;line-height: 1.2em;}#sk-container-id-3 div.sk-label-container {text-align: center;}#sk-container-id-3 div.sk-container {/* jupyter's `normalize.less` sets `[hidden] { display: none; }` but bootstrap.min.css set `[hidden] { display: none !important; }` so we also need the `!important` here to be able to override the default hidden behavior on the sphinx rendered scikit-learn.org. See: https://github.com/scikit-learn/scikit-learn/issues/21755 */display: inline-block !important;position: relative;}#sk-container-id-3 div.sk-text-repr-fallback {display: none;}</style><div id=\"sk-container-id-3\" class=\"sk-top-container\"><div class=\"sk-text-repr-fallback\"><pre>RandomForestRegressor()</pre><b>In a Jupyter environment, please rerun this cell to show the HTML representation or trust the notebook. <br />On GitHub, the HTML representation is unable to render, please try loading this page with nbviewer.org.</b></div><div class=\"sk-container\" hidden><div class=\"sk-item\"><div class=\"sk-estimator sk-toggleable\"><input class=\"sk-toggleable__control sk-hidden--visually\" id=\"sk-estimator-id-3\" type=\"checkbox\" checked><label for=\"sk-estimator-id-3\" class=\"sk-toggleable__label sk-toggleable__label-arrow\">RandomForestRegressor</label><div class=\"sk-toggleable__content\"><pre>RandomForestRegressor()</pre></div></div></div></div></div>"
      ],
      "text/plain": [
       "RandomForestRegressor()"
      ]
     },
     "execution_count": 81,
     "metadata": {},
     "output_type": "execute_result"
    }
   ],
   "source": [
    "# Fit the model on the training data\n",
    "rf.fit(X_train, y_train)"
   ]
  },
  {
   "cell_type": "code",
   "execution_count": 82,
   "metadata": {},
   "outputs": [
    {
     "name": "stdout",
     "output_type": "stream",
     "text": [
      "Test RMSE: 0.01758516611709572\n",
      "Train RMSE: 0.006631639619831087\n"
     ]
    }
   ],
   "source": [
    "# Make predictions on the test and train data\n",
    "y_pred_rf_test = rf.predict(X_test)\n",
    "y_pred_rf_train = rf.predict(X_train)\n",
    "\n",
    "# Calculate the RMSE for the test and train data\n",
    "rf_rmse_test = np.sqrt(mean_squared_error(y_test, y_pred_rf_test))\n",
    "rf_rmse_train = np.sqrt(mean_squared_error(y_train, y_pred_rf_train))\n",
    "\n",
    "print(\"Test RMSE:\", rf_rmse_test)\n",
    "print(\"Train RMSE:\", rf_rmse_train)"
   ]
  },
  {
   "cell_type": "code",
   "execution_count": 83,
   "metadata": {},
   "outputs": [
    {
     "name": "stdout",
     "output_type": "stream",
     "text": [
      "Test RMSE: 0.01812072407191636\n",
      "Train RMSE: 0.01823911576500005\n"
     ]
    }
   ],
   "source": [
    "from sklearn.ensemble import GradientBoostingRegressor\n",
    "\n",
    "# Initialize the gradient boosting regressor\n",
    "gb = GradientBoostingRegressor()\n",
    "\n",
    "# Fit the model on the training data  \n",
    "gb.fit(X_train, y_train)\n",
    "\n",
    "# Make predictions on the test and train data\n",
    "y_pred_gb_test = gb.predict(X_test)\n",
    "y_pred_gb_train = gb.predict(X_train)\n",
    "\n",
    "# Calculate the RMSE for the test and train data\n",
    "gb_rmse_test = np.sqrt(mean_squared_error(y_test, y_pred_gb_test))\n",
    "gb_rmse_train = np.sqrt(mean_squared_error(y_train, y_pred_gb_train))\n",
    "\n",
    "print(\"Test RMSE:\", gb_rmse_test)\n",
    "print(\"Train RMSE:\", gb_rmse_train)\n"
   ]
  },
  {
   "cell_type": "markdown",
   "metadata": {},
   "source": [
    "Will use gradient boosting regressor as its test and train RMSE's are both low and close"
   ]
  },
  {
   "cell_type": "code",
   "execution_count": 84,
   "metadata": {},
   "outputs": [],
   "source": [
    "#importances = rf.feature_importances_\n",
    "\n",
    "# Create a mask to select features with importance greater than or equal to 0.001\n",
    "#mask = (importances >= 0.001)\n",
    "\n",
    "# Apply the mask to the input data to remove features with importance less than 0.001\n",
    "#X_train = X_train.loc[:, mask]\n",
    "#X_test = X_test.loc[:, mask]"
   ]
  },
  {
   "cell_type": "code",
   "execution_count": 85,
   "metadata": {},
   "outputs": [],
   "source": [
    "#from sklearn.preprocessing import MinMaxScaler\n",
    "\n",
    "#scaler = MinMaxScaler()\n",
    "#X_train_norm = scaler.fit_transform(X_train)\n",
    "#X_test_norm = scaler.transform(X_test)"
   ]
  },
  {
   "cell_type": "code",
   "execution_count": 86,
   "metadata": {},
   "outputs": [],
   "source": [
    "#rf = RandomForestRegressor(random_state=0)"
   ]
  },
  {
   "cell_type": "code",
   "execution_count": 87,
   "metadata": {},
   "outputs": [],
   "source": [
    "# Train the model\n",
    "#rf.fit(X_train_norm, y_train)"
   ]
  },
  {
   "cell_type": "code",
   "execution_count": 88,
   "metadata": {},
   "outputs": [],
   "source": [
    "# Make predictions on the test and train data\n",
    "#y_pred_rf_test = rf.predict(X_test_norm)\n",
    "#y_pred_rf_train = rf.predict(X_train_norm)\n",
    "\n",
    "# Calculate the RMSE for the test and train data\n",
    "#rf_rmse_test = np.sqrt(mean_squared_error(y_test, y_pred_rf_test))\n",
    "#rf_rmse_train = np.sqrt(mean_squared_error(y_train, y_pred_rf_train))\n",
    "\n",
    "#print(\"Test RMSE:\", rf_rmse_test)\n",
    "#print(\"Train RMSE:\", rf_rmse_train)"
   ]
  },
  {
   "cell_type": "code",
   "execution_count": 104,
   "metadata": {},
   "outputs": [
    {
     "name": "stdout",
     "output_type": "stream",
     "text": [
      "<class 'pandas.core.frame.DataFrame'>\n",
      "Int64Index: 338989 entries, 0 to 399999\n",
      "Data columns (total 38 columns):\n",
      " #   Column                  Non-Null Count   Dtype  \n",
      "---  ------                  --------------   -----  \n",
      " 0   X1                      338989 non-null  float64\n",
      " 1   X5                      338989 non-null  float64\n",
      " 2   X6                      338989 non-null  float64\n",
      " 3   X13                     338989 non-null  float64\n",
      " 4   X21                     338989 non-null  float64\n",
      " 5   X22                     338989 non-null  float64\n",
      " 6   X24                     338989 non-null  float64\n",
      " 7   X27                     338989 non-null  float64\n",
      " 8   X28                     338989 non-null  float64\n",
      " 9   X29                     338989 non-null  float64\n",
      " 10  X30                     338989 non-null  float64\n",
      " 11  X7_60months             338989 non-null  int64  \n",
      " 12  X8_A                    338989 non-null  uint8  \n",
      " 13  X8_B                    338989 non-null  uint8  \n",
      " 14  X8_C                    338989 non-null  uint8  \n",
      " 15  X8_D                    338989 non-null  uint8  \n",
      " 16  X8_E                    338989 non-null  uint8  \n",
      " 17  X8_F                    338989 non-null  uint8  \n",
      " 18  X8_G                    338989 non-null  uint8  \n",
      " 19  X8_Unknown              338989 non-null  uint8  \n",
      " 20  X14_verified            338989 non-null  int64  \n",
      " 21  X17_car                 338989 non-null  uint8  \n",
      " 22  X17_credit_card         338989 non-null  uint8  \n",
      " 23  X17_debt_consolidation  338989 non-null  uint8  \n",
      " 24  X17_educational         338989 non-null  uint8  \n",
      " 25  X17_home_improvement    338989 non-null  uint8  \n",
      " 26  X17_house               338989 non-null  uint8  \n",
      " 27  X17_major_purchase      338989 non-null  uint8  \n",
      " 28  X17_medical             338989 non-null  uint8  \n",
      " 29  X17_moving              338989 non-null  uint8  \n",
      " 30  X17_other               338989 non-null  uint8  \n",
      " 31  X17_renewable_energy    338989 non-null  uint8  \n",
      " 32  X17_small_business      338989 non-null  uint8  \n",
      " 33  X17_vacation            338989 non-null  uint8  \n",
      " 34  X17_wedding             338989 non-null  uint8  \n",
      " 35  unclosed_creditline     338989 non-null  int64  \n",
      " 36  X32_f                   338989 non-null  uint8  \n",
      " 37  X32_w                   338989 non-null  uint8  \n",
      "dtypes: float64(11), int64(3), uint8(24)\n",
      "memory usage: 54.6 MB\n"
     ]
    }
   ],
   "source": [
    "df.info()"
   ]
  },
  {
   "cell_type": "code",
   "execution_count": 105,
   "metadata": {},
   "outputs": [],
   "source": [
    "# these variables are not present in holdout set\n",
    "df=df.drop('X17_educational',axis=1)\n",
    "df=df.drop('X8_Unknown',axis=1)"
   ]
  },
  {
   "cell_type": "markdown",
   "metadata": {},
   "source": [
    "#### Step 3: Test models using holdout data "
   ]
  },
  {
   "cell_type": "code",
   "execution_count": 89,
   "metadata": {},
   "outputs": [
    {
     "data": {
      "text/plain": [
       "15-Jan    30830\n",
       "15-Mar    25400\n",
       "15-Feb    23770\n",
       "Name: X15, dtype: int64"
      ]
     },
     "execution_count": 89,
     "metadata": {},
     "output_type": "execute_result"
    }
   ],
   "source": [
    "dftest=pd.read_csv('/Users/kothasravani/Desktop/loan_holdout.csv')\n",
    "dftest['X15'].value_counts()"
   ]
  },
  {
   "cell_type": "code",
   "execution_count": 90,
   "metadata": {},
   "outputs": [
    {
     "name": "stdout",
     "output_type": "stream",
     "text": [
      "<class 'pandas.core.frame.DataFrame'>\n",
      "RangeIndex: 80000 entries, 0 to 79999\n",
      "Data columns (total 32 columns):\n",
      " #   Column  Non-Null Count  Dtype  \n",
      "---  ------  --------------  -----  \n",
      " 0   X1      0 non-null      float64\n",
      " 1   X2      80000 non-null  int64  \n",
      " 2   X3      80000 non-null  int64  \n",
      " 3   X4      80000 non-null  object \n",
      " 4   X5      80000 non-null  object \n",
      " 5   X6      80000 non-null  object \n",
      " 6   X7      80000 non-null  object \n",
      " 7   X8      80000 non-null  object \n",
      " 8   X9      80000 non-null  object \n",
      " 9   X10     75606 non-null  object \n",
      " 10  X11     75618 non-null  object \n",
      " 11  X12     80000 non-null  object \n",
      " 12  X13     80000 non-null  float64\n",
      " 13  X14     80000 non-null  object \n",
      " 14  X15     80000 non-null  object \n",
      " 15  X16     15 non-null     object \n",
      " 16  X17     80000 non-null  object \n",
      " 17  X18     80000 non-null  object \n",
      " 18  X19     80000 non-null  object \n",
      " 19  X20     80000 non-null  object \n",
      " 20  X21     80000 non-null  float64\n",
      " 21  X22     80000 non-null  int64  \n",
      " 22  X23     80000 non-null  object \n",
      " 23  X24     80000 non-null  int64  \n",
      " 24  X25     41296 non-null  float64\n",
      " 25  X26     13839 non-null  float64\n",
      " 26  X27     80000 non-null  int64  \n",
      " 27  X28     80000 non-null  int64  \n",
      " 28  X29     80000 non-null  int64  \n",
      " 29  X30     79970 non-null  object \n",
      " 30  X31     80000 non-null  int64  \n",
      " 31  X32     80000 non-null  object \n",
      "dtypes: float64(5), int64(8), object(19)\n",
      "memory usage: 19.5+ MB\n"
     ]
    }
   ],
   "source": [
    "dftest.info()"
   ]
  },
  {
   "cell_type": "markdown",
   "metadata": {},
   "source": [
    "Performing all the operations that have been performed on train set on holdout set variables "
   ]
  },
  {
   "cell_type": "code",
   "execution_count": 91,
   "metadata": {},
   "outputs": [],
   "source": [
    "dftest[['X4', 'X5','X6']] = dftest[['X4', 'X5','X6']].replace({'\\$':'', ',':''}, regex=True).astype(float)\n",
    "dftest = dftest.drop(['X2','X3','X4','X9','X16','X18','X26'],axis=1)"
   ]
  },
  {
   "cell_type": "code",
   "execution_count": 92,
   "metadata": {},
   "outputs": [],
   "source": [
    "dftest['X7_60months'] = dftest['X7'].apply(lambda x: 1 if x == '60 months' else 0)\n",
    "dftest = dftest.drop('X7',axis=1)"
   ]
  },
  {
   "cell_type": "code",
   "execution_count": 93,
   "metadata": {},
   "outputs": [],
   "source": [
    "dftest['X8'].fillna('Unknown', inplace=True)\n",
    "X8_dummies = pd.get_dummies(dftest['X8'], prefix='X8')\n",
    "dftest = pd.concat([dftest, X8_dummies], axis=1)\n",
    "dftest = dftest.drop('X8',axis=1)"
   ]
  },
  {
   "cell_type": "code",
   "execution_count": 94,
   "metadata": {},
   "outputs": [],
   "source": [
    "dftest = dftest.drop('X10',axis=1)\n",
    "dftest = dftest.drop('X11',axis=1)\n",
    "dftest = dftest.drop('X12',axis=1)"
   ]
  },
  {
   "cell_type": "code",
   "execution_count": 95,
   "metadata": {},
   "outputs": [],
   "source": [
    "dftest['X13'].fillna(dftest['X13'].median(), inplace=True)\n",
    "dftest['X14'] = dftest['X14'].replace(['VERIFIED - income source'], 'VERIFIED - income')\n",
    "dftest['X14_verified'] = dftest['X14'].apply(lambda x: 1 if x == 'VERIFIED - income' else 0)\n",
    "dftest = dftest.drop('X14', axis=1)"
   ]
  },
  {
   "cell_type": "code",
   "execution_count": 96,
   "metadata": {},
   "outputs": [],
   "source": [
    "# convert the values to datetime objects\n",
    "dftest['X15'] = pd.to_datetime(dftest['X15'], format='%y-%b')\n",
    "\n",
    "# create a new column with year and quarter\n",
    "dftest['X15_year_quarter'] = dftest['X15'].dt.to_period('Q').apply(lambda x: str(x.year) + '-Q' + str(x.quarter))\n",
    "\n",
    "#X15_dummies = pd.get_dummies(dftest['X15_year_quarter'], prefix='X15')\n",
    "#dftest = pd.concat([dftest, X15_dummies], axis=1)\n",
    "dftest = dftest.drop(['X15','X15_year_quarter'],axis=1)"
   ]
  },
  {
   "cell_type": "code",
   "execution_count": 97,
   "metadata": {},
   "outputs": [],
   "source": [
    "X17_dummies = pd.get_dummies(dftest['X17'], prefix='X17')\n",
    "dftest = pd.concat([dftest, X17_dummies], axis=1)\n",
    "dftest = dftest.drop('X17',axis=1)\n",
    "dftest = dftest.drop('X19',axis=1)\n",
    "dftest = dftest.drop('X20',axis=1)"
   ]
  },
  {
   "cell_type": "code",
   "execution_count": 98,
   "metadata": {},
   "outputs": [],
   "source": [
    "#dftest['X22_zeroes']=dftest['X22'].apply(lambda x:1 if x == 0 else 0)\n",
    "dftest = dftest.drop(['X23'],axis=1)\n",
    "#dftest['X24_zeroes']=dftest['X24'].apply(lambda x:1 if x == 0 else 0)\n",
    "#dftest['X28_zeroes']=dftest['X28'].apply(lambda x:1 if x == 0 else 0)\n",
    "#dftest['X29_zeroes']=dftest['X29'].apply(lambda x:1 if x == 0 else 0)\n",
    "#dftest['X30_zeroes']=dftest['X30'].apply(lambda x:1 if x == 0 else 0)"
   ]
  },
  {
   "cell_type": "code",
   "execution_count": 99,
   "metadata": {},
   "outputs": [],
   "source": [
    "dftest['X30']=dftest['X30'].replace({'%':''}, regex=True).astype(float)\n",
    "dftest['X30']=dftest['X30']/100\n",
    "dftest['X30']=dftest['X30'].interpolate()\n",
    "\n",
    "#creating the number of closed credit line\n",
    "dftest['closed_creditline'] = dftest['X31'] - dftest['X27']\n",
    "dftest['unclosed_creditline'] = dftest['closed_creditline'].apply(lambda x: 1 if x == 0 else 0)\n",
    "dftest = dftest.drop(['X31', 'closed_creditline'], axis=1)\n",
    "\n",
    "X32_dummies = pd.get_dummies(dftest['X32'], prefix='X32')\n",
    "dftest = pd.concat([dftest, X32_dummies], axis=1)\n",
    "dftest = dftest.drop(['X32'],axis=1)\n",
    "dftest = dftest.drop('X25',axis=1)"
   ]
  },
  {
   "cell_type": "code",
   "execution_count": 100,
   "metadata": {},
   "outputs": [],
   "source": [
    "dftest = dftest.drop('X1',axis=1)"
   ]
  },
  {
   "cell_type": "code",
   "execution_count": 101,
   "metadata": {},
   "outputs": [
    {
     "name": "stdout",
     "output_type": "stream",
     "text": [
      "<class 'pandas.core.frame.DataFrame'>\n",
      "RangeIndex: 80000 entries, 0 to 79999\n",
      "Data columns (total 35 columns):\n",
      " #   Column                  Non-Null Count  Dtype  \n",
      "---  ------                  --------------  -----  \n",
      " 0   X5                      80000 non-null  float64\n",
      " 1   X6                      80000 non-null  float64\n",
      " 2   X13                     80000 non-null  float64\n",
      " 3   X21                     80000 non-null  float64\n",
      " 4   X22                     80000 non-null  int64  \n",
      " 5   X24                     80000 non-null  int64  \n",
      " 6   X27                     80000 non-null  int64  \n",
      " 7   X28                     80000 non-null  int64  \n",
      " 8   X29                     80000 non-null  int64  \n",
      " 9   X30                     80000 non-null  float64\n",
      " 10  X7_60months             80000 non-null  int64  \n",
      " 11  X8_A                    80000 non-null  uint8  \n",
      " 12  X8_B                    80000 non-null  uint8  \n",
      " 13  X8_C                    80000 non-null  uint8  \n",
      " 14  X8_D                    80000 non-null  uint8  \n",
      " 15  X8_E                    80000 non-null  uint8  \n",
      " 16  X8_F                    80000 non-null  uint8  \n",
      " 17  X8_G                    80000 non-null  uint8  \n",
      " 18  X14_verified            80000 non-null  int64  \n",
      " 19  X17_car                 80000 non-null  uint8  \n",
      " 20  X17_credit_card         80000 non-null  uint8  \n",
      " 21  X17_debt_consolidation  80000 non-null  uint8  \n",
      " 22  X17_home_improvement    80000 non-null  uint8  \n",
      " 23  X17_house               80000 non-null  uint8  \n",
      " 24  X17_major_purchase      80000 non-null  uint8  \n",
      " 25  X17_medical             80000 non-null  uint8  \n",
      " 26  X17_moving              80000 non-null  uint8  \n",
      " 27  X17_other               80000 non-null  uint8  \n",
      " 28  X17_renewable_energy    80000 non-null  uint8  \n",
      " 29  X17_small_business      80000 non-null  uint8  \n",
      " 30  X17_vacation            80000 non-null  uint8  \n",
      " 31  X17_wedding             80000 non-null  uint8  \n",
      " 32  unclosed_creditline     80000 non-null  int64  \n",
      " 33  X32_f                   80000 non-null  uint8  \n",
      " 34  X32_w                   80000 non-null  uint8  \n",
      "dtypes: float64(5), int64(8), uint8(22)\n",
      "memory usage: 9.6 MB\n"
     ]
    }
   ],
   "source": [
    "X_testset = dftest\n",
    "X_testset.info()"
   ]
  },
  {
   "cell_type": "code",
   "execution_count": 113,
   "metadata": {},
   "outputs": [
    {
     "name": "stdout",
     "output_type": "stream",
     "text": [
      "<class 'pandas.core.frame.DataFrame'>\n",
      "Int64Index: 271191 entries, 368379 to 223406\n",
      "Data columns (total 35 columns):\n",
      " #   Column                  Non-Null Count   Dtype  \n",
      "---  ------                  --------------   -----  \n",
      " 0   X5                      271191 non-null  float64\n",
      " 1   X6                      271191 non-null  float64\n",
      " 2   X13                     271191 non-null  float64\n",
      " 3   X21                     271191 non-null  float64\n",
      " 4   X22                     271191 non-null  float64\n",
      " 5   X24                     271191 non-null  float64\n",
      " 6   X27                     271191 non-null  float64\n",
      " 7   X28                     271191 non-null  float64\n",
      " 8   X29                     271191 non-null  float64\n",
      " 9   X30                     271191 non-null  float64\n",
      " 10  X7_60months             271191 non-null  int64  \n",
      " 11  X8_A                    271191 non-null  uint8  \n",
      " 12  X8_B                    271191 non-null  uint8  \n",
      " 13  X8_C                    271191 non-null  uint8  \n",
      " 14  X8_D                    271191 non-null  uint8  \n",
      " 15  X8_E                    271191 non-null  uint8  \n",
      " 16  X8_F                    271191 non-null  uint8  \n",
      " 17  X8_G                    271191 non-null  uint8  \n",
      " 18  X14_verified            271191 non-null  int64  \n",
      " 19  X17_car                 271191 non-null  uint8  \n",
      " 20  X17_credit_card         271191 non-null  uint8  \n",
      " 21  X17_debt_consolidation  271191 non-null  uint8  \n",
      " 22  X17_home_improvement    271191 non-null  uint8  \n",
      " 23  X17_house               271191 non-null  uint8  \n",
      " 24  X17_major_purchase      271191 non-null  uint8  \n",
      " 25  X17_medical             271191 non-null  uint8  \n",
      " 26  X17_moving              271191 non-null  uint8  \n",
      " 27  X17_other               271191 non-null  uint8  \n",
      " 28  X17_renewable_energy    271191 non-null  uint8  \n",
      " 29  X17_small_business      271191 non-null  uint8  \n",
      " 30  X17_vacation            271191 non-null  uint8  \n",
      " 31  X17_wedding             271191 non-null  uint8  \n",
      " 32  unclosed_creditline     271191 non-null  int64  \n",
      " 33  X32_f                   271191 non-null  uint8  \n",
      " 34  X32_w                   271191 non-null  uint8  \n",
      "dtypes: float64(10), int64(3), uint8(22)\n",
      "memory usage: 34.7 MB\n"
     ]
    }
   ],
   "source": [
    "X_train.info()"
   ]
  },
  {
   "cell_type": "code",
   "execution_count": 114,
   "metadata": {},
   "outputs": [],
   "source": [
    "#Predicting target variable using Gradient Boost\n",
    "gb = GradientBoostingRegressor()\n",
    "gb.fit(X_train, y_train)\n",
    "y_pred_gb = gb.predict(X_testset)"
   ]
  },
  {
   "cell_type": "code",
   "execution_count": 118,
   "metadata": {},
   "outputs": [],
   "source": [
    "test = pd.read_csv('/Users/kothasravani/Desktop/loan_holdout.csv')\n",
    "predict = pd.DataFrame({\n",
    "        'applicant_id': test['X3'],\n",
    "        'predicted_interest_rate':y_pred_gb*100\n",
    "    \n",
    "})"
   ]
  },
  {
   "cell_type": "code",
   "execution_count": 119,
   "metadata": {},
   "outputs": [],
   "source": [
    "predict.to_csv('/Users/kothasravani/Desktop/Results from Sravani.csv',index=False)"
   ]
  },
  {
   "cell_type": "markdown",
   "metadata": {},
   "source": [
    "write-up comparing the pros and cons of the modeling techniques: \n",
    "\n",
    "I employed various modelling techniques to pre-process the data. One of the advantages of dropping the rows with missing values in the target variable column (interest rate) is that it does not significantly impact the size of the dataset, but the downside is that resulting dataset may have selection bias. I created new features to help in building a more accurate model by capturing the impact of some variables on interest rates. However, one disadvantage of creating dummy variables is that it may lead to multicollinearity. I tried using Linear regression to predict missing values in a column, which may not be accurate if there is no correlation between the missing value column and other variables. I used Spearman correlation and linear regression R-squared for analyzing relationships between X and y variables. Spearman correlation can capture non-linear relationships and does not require assumptions of normality or linearity but it may miss complex relationships. Whereas a linear regression assumes a linear relationship and can be affected by outliers.Based on the performance metrics, it appeared to me that Gradient Boosting is the best model for this dataset. It has the lowest Test RMSE, which indicates that it has the best predictive power among the models evaluated. Additionally, the Train RMSE is higher than the Test RMSE, which suggests that the model is not overfitting the training data. Random Forest also performs well, with a Test RMSE that is only slightly higher than Gradient Boosting. However, it has a higher Train RMSE than Gradient Boosting, indicating that it may be overfitting the training data. While Decision Tree has the lowest Train RMSE, its Test RMSE is the highest among the models, indicating that it has the worst predictive power. Finally, Linear Regression performs similarly to Gradient Boosting, but its performance is not as good as it has higher Test and Train RMSE. Overall, Gradient Boosting appears to be the best model for this dataset, as it has the best predictive power and is less likely to overfit the data."
   ]
  }
 ],
 "metadata": {
  "kernelspec": {
   "display_name": "Python 3 (ipykernel)",
   "language": "python",
   "name": "python3"
  },
  "language_info": {
   "codemirror_mode": {
    "name": "ipython",
    "version": 3
   },
   "file_extension": ".py",
   "mimetype": "text/x-python",
   "name": "python",
   "nbconvert_exporter": "python",
   "pygments_lexer": "ipython3",
   "version": "3.11.0"
  }
 },
 "nbformat": 4,
 "nbformat_minor": 2
}
